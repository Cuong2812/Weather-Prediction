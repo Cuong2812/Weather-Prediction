{
  "cells": [
    {
      "cell_type": "markdown",
      "metadata": {
        "id": "view-in-github",
        "colab_type": "text"
      },
      "source": [
        "<a href=\"https://colab.research.google.com/github/Cuong2812/Weather-Prediction/blob/main/Weather_Prediction_.ipynb\" target=\"_parent\"><img src=\"https://colab.research.google.com/assets/colab-badge.svg\" alt=\"Open In Colab\"/></a>"
      ]
    },
    {
      "cell_type": "markdown",
      "metadata": {
        "id": "7JhXEZZ4S6f1"
      },
      "source": [
        "# Data Import"
      ]
    },
    {
      "cell_type": "code",
      "execution_count": 55,
      "metadata": {
        "id": "-tEZR0lWAMf5"
      },
      "outputs": [],
      "source": [
        "import pandas as pd\n",
        "import numpy as np\n",
        "import matplotlib.pyplot as plt"
      ]
    },
    {
      "cell_type": "code",
      "execution_count": 56,
      "metadata": {
        "colab": {
          "base_uri": "https://localhost:8080/"
        },
        "id": "NkZh7Ws4bjAq",
        "outputId": "90bd1e10-5ba2-4a16-cac6-f5cbbe137b08"
      },
      "outputs": [
        {
          "output_type": "stream",
          "name": "stdout",
          "text": [
            "Drive already mounted at /content/drive; to attempt to forcibly remount, call drive.mount(\"/content/drive\", force_remount=True).\n"
          ]
        }
      ],
      "source": [
        "from google.colab import drive\n",
        "drive.mount('/content/drive')"
      ]
    },
    {
      "cell_type": "code",
      "execution_count": 57,
      "metadata": {
        "colab": {
          "base_uri": "https://localhost:8080/"
        },
        "id": "pOogHJqtAYCC",
        "outputId": "7cb3c9c8-5b1e-4237-ba39-21fe95f631b2"
      },
      "outputs": [
        {
          "output_type": "stream",
          "name": "stdout",
          "text": [
            "<class 'pandas.core.frame.DataFrame'>\n",
            "RangeIndex: 4549 entries, 0 to 4548\n",
            "Data columns (total 12 columns):\n",
            " #   Column         Non-Null Count  Dtype  \n",
            "---  ------         --------------  -----  \n",
            " 0   province       4549 non-null   object \n",
            " 1   max temp       4549 non-null   int64  \n",
            " 2   min temp       4549 non-null   int64  \n",
            " 3   wind speed     4549 non-null   int64  \n",
            " 4   weather        4549 non-null   object \n",
            " 5   weather label  4549 non-null   int64  \n",
            " 6   rain amount    4549 non-null   float64\n",
            " 7   humidity       4549 non-null   int64  \n",
            " 8   cloud          4549 non-null   int64  \n",
            " 9   pressure       4549 non-null   int64  \n",
            " 10  date           4549 non-null   object \n",
            " 11  timestamp      4549 non-null   int64  \n",
            "dtypes: float64(1), int64(8), object(3)\n",
            "memory usage: 426.6+ KB\n"
          ]
        }
      ],
      "source": [
        "weather = pd.read_csv('/content/drive/MyDrive/hanoi weather.csv')\n",
        "# weather = weather.iloc[:]\n",
        "weather.info()"
      ]
    },
    {
      "cell_type": "code",
      "execution_count": 58,
      "metadata": {
        "colab": {
          "base_uri": "https://localhost:8080/"
        },
        "id": "5NOOEyG9I8PX",
        "outputId": "9d94c10f-4b69-4fe0-9101-1d2145f55019"
      },
      "outputs": [
        {
          "output_type": "execute_result",
          "data": {
            "text/plain": [
              "0"
            ]
          },
          "metadata": {},
          "execution_count": 58
        }
      ],
      "source": [
        "df = weather.drop(columns=['province', \n",
        "                           'timestamp', \n",
        "                           'rain amount',\n",
        "                           # 'weather label',\n",
        "                           # 'weather'\n",
        "                           ])\n",
        "df.duplicated().sum() #Check Duplicated Rows"
      ]
    },
    {
      "cell_type": "code",
      "execution_count": 59,
      "metadata": {
        "colab": {
          "base_uri": "https://localhost:8080/"
        },
        "id": "A_MbpjkTHcG1",
        "outputId": "cb8d061c-a44d-418a-efcc-dc9059ff2ed5"
      },
      "outputs": [
        {
          "output_type": "execute_result",
          "data": {
            "text/plain": [
              "array(['Sunny', 'Light Rain', 'Moderate Rain', 'Heavy Rain',\n",
              "       'Violent Rain'], dtype=object)"
            ]
          },
          "metadata": {},
          "execution_count": 59
        }
      ],
      "source": [
        "df['weather'].unique()"
      ]
    },
    {
      "cell_type": "code",
      "execution_count": 60,
      "metadata": {
        "colab": {
          "base_uri": "https://localhost:8080/"
        },
        "id": "8Bfqnv29H-eV",
        "outputId": "8686fd4f-53cb-4d63-a1e4-7f7fd4a8b213"
      },
      "outputs": [
        {
          "output_type": "execute_result",
          "data": {
            "text/plain": [
              "{3: 'Sunny',\n",
              " 1: 'Light Rain',\n",
              " 2: 'Moderate Rain',\n",
              " 0: 'Heavy Rain',\n",
              " 4: 'Violent Rain'}"
            ]
          },
          "metadata": {},
          "execution_count": 60
        }
      ],
      "source": [
        "from sklearn.preprocessing import LabelEncoder\n",
        "le = LabelEncoder()\n",
        "df['weather label'] = le.fit_transform(df['weather'])\n",
        "\n",
        "#Store labels and name for final use\n",
        "weather_dict = dict(zip(df['weather label'], df['weather']))\n",
        "weather_dict"
      ]
    },
    {
      "cell_type": "code",
      "execution_count": 61,
      "metadata": {
        "colab": {
          "base_uri": "https://localhost:8080/",
          "height": 423
        },
        "id": "CtkcwCzDII-D",
        "outputId": "9452e6de-d71c-46e4-d4a5-329df7e51775"
      },
      "outputs": [
        {
          "output_type": "execute_result",
          "data": {
            "text/plain": [
              "      max temp  min temp  wind speed     weather  weather label  humidity  \\\n",
              "0           19        12           6       Sunny              3        70   \n",
              "1           18        12           6  Light Rain              1        65   \n",
              "2           20        13           5  Light Rain              1        74   \n",
              "3           25        12           5       Sunny              3        81   \n",
              "4           23        14           5  Light Rain              1        90   \n",
              "...        ...       ...         ...         ...            ...       ...   \n",
              "4544        32        25          10  Light Rain              1        74   \n",
              "4545        34        26           6       Sunny              3        67   \n",
              "4546        37        29           7       Sunny              3        62   \n",
              "4547        38        29           9       Sunny              3        65   \n",
              "4548        38        30          10       Sunny              3        62   \n",
              "\n",
              "      cloud  pressure       date  year  month  day  \n",
              "0        44      1025 2009-01-01  2009      1    1  \n",
              "1        28      1025 2009-01-02  2009      1    2  \n",
              "2        40      1022 2009-01-03  2009      1    3  \n",
              "3        46      1018 2009-01-04  2009      1    4  \n",
              "4        75      1017 2009-01-05  2009      1    5  \n",
              "...     ...       ...        ...   ...    ...  ...  \n",
              "4544     60      1001 2021-06-14  2021      6   14  \n",
              "4545     36       999 2021-06-15  2021      6   15  \n",
              "4546     24      1000 2021-06-16  2021      6   16  \n",
              "4547     28      1002 2021-06-17  2021      6   17  \n",
              "4548     20      1002 2021-06-18  2021      6   18  \n",
              "\n",
              "[4549 rows x 12 columns]"
            ],
            "text/html": [
              "\n",
              "  <div id=\"df-e78e54dc-1e0a-4b6f-8853-2f10330353db\">\n",
              "    <div class=\"colab-df-container\">\n",
              "      <div>\n",
              "<style scoped>\n",
              "    .dataframe tbody tr th:only-of-type {\n",
              "        vertical-align: middle;\n",
              "    }\n",
              "\n",
              "    .dataframe tbody tr th {\n",
              "        vertical-align: top;\n",
              "    }\n",
              "\n",
              "    .dataframe thead th {\n",
              "        text-align: right;\n",
              "    }\n",
              "</style>\n",
              "<table border=\"1\" class=\"dataframe\">\n",
              "  <thead>\n",
              "    <tr style=\"text-align: right;\">\n",
              "      <th></th>\n",
              "      <th>max temp</th>\n",
              "      <th>min temp</th>\n",
              "      <th>wind speed</th>\n",
              "      <th>weather</th>\n",
              "      <th>weather label</th>\n",
              "      <th>humidity</th>\n",
              "      <th>cloud</th>\n",
              "      <th>pressure</th>\n",
              "      <th>date</th>\n",
              "      <th>year</th>\n",
              "      <th>month</th>\n",
              "      <th>day</th>\n",
              "    </tr>\n",
              "  </thead>\n",
              "  <tbody>\n",
              "    <tr>\n",
              "      <th>0</th>\n",
              "      <td>19</td>\n",
              "      <td>12</td>\n",
              "      <td>6</td>\n",
              "      <td>Sunny</td>\n",
              "      <td>3</td>\n",
              "      <td>70</td>\n",
              "      <td>44</td>\n",
              "      <td>1025</td>\n",
              "      <td>2009-01-01</td>\n",
              "      <td>2009</td>\n",
              "      <td>1</td>\n",
              "      <td>1</td>\n",
              "    </tr>\n",
              "    <tr>\n",
              "      <th>1</th>\n",
              "      <td>18</td>\n",
              "      <td>12</td>\n",
              "      <td>6</td>\n",
              "      <td>Light Rain</td>\n",
              "      <td>1</td>\n",
              "      <td>65</td>\n",
              "      <td>28</td>\n",
              "      <td>1025</td>\n",
              "      <td>2009-01-02</td>\n",
              "      <td>2009</td>\n",
              "      <td>1</td>\n",
              "      <td>2</td>\n",
              "    </tr>\n",
              "    <tr>\n",
              "      <th>2</th>\n",
              "      <td>20</td>\n",
              "      <td>13</td>\n",
              "      <td>5</td>\n",
              "      <td>Light Rain</td>\n",
              "      <td>1</td>\n",
              "      <td>74</td>\n",
              "      <td>40</td>\n",
              "      <td>1022</td>\n",
              "      <td>2009-01-03</td>\n",
              "      <td>2009</td>\n",
              "      <td>1</td>\n",
              "      <td>3</td>\n",
              "    </tr>\n",
              "    <tr>\n",
              "      <th>3</th>\n",
              "      <td>25</td>\n",
              "      <td>12</td>\n",
              "      <td>5</td>\n",
              "      <td>Sunny</td>\n",
              "      <td>3</td>\n",
              "      <td>81</td>\n",
              "      <td>46</td>\n",
              "      <td>1018</td>\n",
              "      <td>2009-01-04</td>\n",
              "      <td>2009</td>\n",
              "      <td>1</td>\n",
              "      <td>4</td>\n",
              "    </tr>\n",
              "    <tr>\n",
              "      <th>4</th>\n",
              "      <td>23</td>\n",
              "      <td>14</td>\n",
              "      <td>5</td>\n",
              "      <td>Light Rain</td>\n",
              "      <td>1</td>\n",
              "      <td>90</td>\n",
              "      <td>75</td>\n",
              "      <td>1017</td>\n",
              "      <td>2009-01-05</td>\n",
              "      <td>2009</td>\n",
              "      <td>1</td>\n",
              "      <td>5</td>\n",
              "    </tr>\n",
              "    <tr>\n",
              "      <th>...</th>\n",
              "      <td>...</td>\n",
              "      <td>...</td>\n",
              "      <td>...</td>\n",
              "      <td>...</td>\n",
              "      <td>...</td>\n",
              "      <td>...</td>\n",
              "      <td>...</td>\n",
              "      <td>...</td>\n",
              "      <td>...</td>\n",
              "      <td>...</td>\n",
              "      <td>...</td>\n",
              "      <td>...</td>\n",
              "    </tr>\n",
              "    <tr>\n",
              "      <th>4544</th>\n",
              "      <td>32</td>\n",
              "      <td>25</td>\n",
              "      <td>10</td>\n",
              "      <td>Light Rain</td>\n",
              "      <td>1</td>\n",
              "      <td>74</td>\n",
              "      <td>60</td>\n",
              "      <td>1001</td>\n",
              "      <td>2021-06-14</td>\n",
              "      <td>2021</td>\n",
              "      <td>6</td>\n",
              "      <td>14</td>\n",
              "    </tr>\n",
              "    <tr>\n",
              "      <th>4545</th>\n",
              "      <td>34</td>\n",
              "      <td>26</td>\n",
              "      <td>6</td>\n",
              "      <td>Sunny</td>\n",
              "      <td>3</td>\n",
              "      <td>67</td>\n",
              "      <td>36</td>\n",
              "      <td>999</td>\n",
              "      <td>2021-06-15</td>\n",
              "      <td>2021</td>\n",
              "      <td>6</td>\n",
              "      <td>15</td>\n",
              "    </tr>\n",
              "    <tr>\n",
              "      <th>4546</th>\n",
              "      <td>37</td>\n",
              "      <td>29</td>\n",
              "      <td>7</td>\n",
              "      <td>Sunny</td>\n",
              "      <td>3</td>\n",
              "      <td>62</td>\n",
              "      <td>24</td>\n",
              "      <td>1000</td>\n",
              "      <td>2021-06-16</td>\n",
              "      <td>2021</td>\n",
              "      <td>6</td>\n",
              "      <td>16</td>\n",
              "    </tr>\n",
              "    <tr>\n",
              "      <th>4547</th>\n",
              "      <td>38</td>\n",
              "      <td>29</td>\n",
              "      <td>9</td>\n",
              "      <td>Sunny</td>\n",
              "      <td>3</td>\n",
              "      <td>65</td>\n",
              "      <td>28</td>\n",
              "      <td>1002</td>\n",
              "      <td>2021-06-17</td>\n",
              "      <td>2021</td>\n",
              "      <td>6</td>\n",
              "      <td>17</td>\n",
              "    </tr>\n",
              "    <tr>\n",
              "      <th>4548</th>\n",
              "      <td>38</td>\n",
              "      <td>30</td>\n",
              "      <td>10</td>\n",
              "      <td>Sunny</td>\n",
              "      <td>3</td>\n",
              "      <td>62</td>\n",
              "      <td>20</td>\n",
              "      <td>1002</td>\n",
              "      <td>2021-06-18</td>\n",
              "      <td>2021</td>\n",
              "      <td>6</td>\n",
              "      <td>18</td>\n",
              "    </tr>\n",
              "  </tbody>\n",
              "</table>\n",
              "<p>4549 rows × 12 columns</p>\n",
              "</div>\n",
              "      <button class=\"colab-df-convert\" onclick=\"convertToInteractive('df-e78e54dc-1e0a-4b6f-8853-2f10330353db')\"\n",
              "              title=\"Convert this dataframe to an interactive table.\"\n",
              "              style=\"display:none;\">\n",
              "        \n",
              "  <svg xmlns=\"http://www.w3.org/2000/svg\" height=\"24px\"viewBox=\"0 0 24 24\"\n",
              "       width=\"24px\">\n",
              "    <path d=\"M0 0h24v24H0V0z\" fill=\"none\"/>\n",
              "    <path d=\"M18.56 5.44l.94 2.06.94-2.06 2.06-.94-2.06-.94-.94-2.06-.94 2.06-2.06.94zm-11 1L8.5 8.5l.94-2.06 2.06-.94-2.06-.94L8.5 2.5l-.94 2.06-2.06.94zm10 10l.94 2.06.94-2.06 2.06-.94-2.06-.94-.94-2.06-.94 2.06-2.06.94z\"/><path d=\"M17.41 7.96l-1.37-1.37c-.4-.4-.92-.59-1.43-.59-.52 0-1.04.2-1.43.59L10.3 9.45l-7.72 7.72c-.78.78-.78 2.05 0 2.83L4 21.41c.39.39.9.59 1.41.59.51 0 1.02-.2 1.41-.59l7.78-7.78 2.81-2.81c.8-.78.8-2.07 0-2.86zM5.41 20L4 18.59l7.72-7.72 1.47 1.35L5.41 20z\"/>\n",
              "  </svg>\n",
              "      </button>\n",
              "      \n",
              "  <style>\n",
              "    .colab-df-container {\n",
              "      display:flex;\n",
              "      flex-wrap:wrap;\n",
              "      gap: 12px;\n",
              "    }\n",
              "\n",
              "    .colab-df-convert {\n",
              "      background-color: #E8F0FE;\n",
              "      border: none;\n",
              "      border-radius: 50%;\n",
              "      cursor: pointer;\n",
              "      display: none;\n",
              "      fill: #1967D2;\n",
              "      height: 32px;\n",
              "      padding: 0 0 0 0;\n",
              "      width: 32px;\n",
              "    }\n",
              "\n",
              "    .colab-df-convert:hover {\n",
              "      background-color: #E2EBFA;\n",
              "      box-shadow: 0px 1px 2px rgba(60, 64, 67, 0.3), 0px 1px 3px 1px rgba(60, 64, 67, 0.15);\n",
              "      fill: #174EA6;\n",
              "    }\n",
              "\n",
              "    [theme=dark] .colab-df-convert {\n",
              "      background-color: #3B4455;\n",
              "      fill: #D2E3FC;\n",
              "    }\n",
              "\n",
              "    [theme=dark] .colab-df-convert:hover {\n",
              "      background-color: #434B5C;\n",
              "      box-shadow: 0px 1px 3px 1px rgba(0, 0, 0, 0.15);\n",
              "      filter: drop-shadow(0px 1px 2px rgba(0, 0, 0, 0.3));\n",
              "      fill: #FFFFFF;\n",
              "    }\n",
              "  </style>\n",
              "\n",
              "      <script>\n",
              "        const buttonEl =\n",
              "          document.querySelector('#df-e78e54dc-1e0a-4b6f-8853-2f10330353db button.colab-df-convert');\n",
              "        buttonEl.style.display =\n",
              "          google.colab.kernel.accessAllowed ? 'block' : 'none';\n",
              "\n",
              "        async function convertToInteractive(key) {\n",
              "          const element = document.querySelector('#df-e78e54dc-1e0a-4b6f-8853-2f10330353db');\n",
              "          const dataTable =\n",
              "            await google.colab.kernel.invokeFunction('convertToInteractive',\n",
              "                                                     [key], {});\n",
              "          if (!dataTable) return;\n",
              "\n",
              "          const docLinkHtml = 'Like what you see? Visit the ' +\n",
              "            '<a target=\"_blank\" href=https://colab.research.google.com/notebooks/data_table.ipynb>data table notebook</a>'\n",
              "            + ' to learn more about interactive tables.';\n",
              "          element.innerHTML = '';\n",
              "          dataTable['output_type'] = 'display_data';\n",
              "          await google.colab.output.renderOutput(dataTable, element);\n",
              "          const docLink = document.createElement('div');\n",
              "          docLink.innerHTML = docLinkHtml;\n",
              "          element.appendChild(docLink);\n",
              "        }\n",
              "      </script>\n",
              "    </div>\n",
              "  </div>\n",
              "  "
            ]
          },
          "metadata": {},
          "execution_count": 61
        }
      ],
      "source": [
        "#Preprocess Datetime Columns\n",
        "\n",
        "def date_time(df) :\n",
        "    \n",
        "    df['date'] = pd.to_datetime(df['date'])\n",
        "    df['year'] = df['date'].dt.year #Generate Year Column\n",
        "    df['month'] = df['date'].dt.month #Generate Month Column\n",
        "    df['day'] = df['date'].dt.day\n",
        "    \n",
        "    return df\n",
        "\n",
        "\n",
        "df_final = date_time(df)\n",
        "df_final"
      ]
    },
    {
      "cell_type": "markdown",
      "metadata": {
        "id": "rByxaKs4TDH8"
      },
      "source": [
        "# Display"
      ]
    },
    {
      "cell_type": "code",
      "execution_count": 62,
      "metadata": {
        "colab": {
          "base_uri": "https://localhost:8080/",
          "height": 455
        },
        "id": "2FbwMc7YIi6p",
        "outputId": "ed7af4c1-9fb8-4f47-f522-41585fc718d6"
      },
      "outputs": [
        {
          "output_type": "execute_result",
          "data": {
            "text/plain": [
              "            max temp  min temp  wind speed  weather label  humidity  cloud  \\\n",
              "date                                                                         \n",
              "2009-01-01        19        12           6              3        70     44   \n",
              "2009-01-02        18        12           6              1        65     28   \n",
              "2009-01-03        20        13           5              1        74     40   \n",
              "2009-01-04        25        12           5              3        81     46   \n",
              "2009-01-05        23        14           5              1        90     75   \n",
              "...              ...       ...         ...            ...       ...    ...   \n",
              "2021-06-14        32        25          10              1        74     60   \n",
              "2021-06-15        34        26           6              3        67     36   \n",
              "2021-06-16        37        29           7              3        62     24   \n",
              "2021-06-17        38        29           9              3        65     28   \n",
              "2021-06-18        38        30          10              3        62     20   \n",
              "\n",
              "            pressure  year  month  day  \n",
              "date                                    \n",
              "2009-01-01      1025  2009      1    1  \n",
              "2009-01-02      1025  2009      1    2  \n",
              "2009-01-03      1022  2009      1    3  \n",
              "2009-01-04      1018  2009      1    4  \n",
              "2009-01-05      1017  2009      1    5  \n",
              "...              ...   ...    ...  ...  \n",
              "2021-06-14      1001  2021      6   14  \n",
              "2021-06-15       999  2021      6   15  \n",
              "2021-06-16      1000  2021      6   16  \n",
              "2021-06-17      1002  2021      6   17  \n",
              "2021-06-18      1002  2021      6   18  \n",
              "\n",
              "[4549 rows x 10 columns]"
            ],
            "text/html": [
              "\n",
              "  <div id=\"df-503da7ce-ea1b-4716-a412-7780713cc3b8\">\n",
              "    <div class=\"colab-df-container\">\n",
              "      <div>\n",
              "<style scoped>\n",
              "    .dataframe tbody tr th:only-of-type {\n",
              "        vertical-align: middle;\n",
              "    }\n",
              "\n",
              "    .dataframe tbody tr th {\n",
              "        vertical-align: top;\n",
              "    }\n",
              "\n",
              "    .dataframe thead th {\n",
              "        text-align: right;\n",
              "    }\n",
              "</style>\n",
              "<table border=\"1\" class=\"dataframe\">\n",
              "  <thead>\n",
              "    <tr style=\"text-align: right;\">\n",
              "      <th></th>\n",
              "      <th>max temp</th>\n",
              "      <th>min temp</th>\n",
              "      <th>wind speed</th>\n",
              "      <th>weather label</th>\n",
              "      <th>humidity</th>\n",
              "      <th>cloud</th>\n",
              "      <th>pressure</th>\n",
              "      <th>year</th>\n",
              "      <th>month</th>\n",
              "      <th>day</th>\n",
              "    </tr>\n",
              "    <tr>\n",
              "      <th>date</th>\n",
              "      <th></th>\n",
              "      <th></th>\n",
              "      <th></th>\n",
              "      <th></th>\n",
              "      <th></th>\n",
              "      <th></th>\n",
              "      <th></th>\n",
              "      <th></th>\n",
              "      <th></th>\n",
              "      <th></th>\n",
              "    </tr>\n",
              "  </thead>\n",
              "  <tbody>\n",
              "    <tr>\n",
              "      <th>2009-01-01</th>\n",
              "      <td>19</td>\n",
              "      <td>12</td>\n",
              "      <td>6</td>\n",
              "      <td>3</td>\n",
              "      <td>70</td>\n",
              "      <td>44</td>\n",
              "      <td>1025</td>\n",
              "      <td>2009</td>\n",
              "      <td>1</td>\n",
              "      <td>1</td>\n",
              "    </tr>\n",
              "    <tr>\n",
              "      <th>2009-01-02</th>\n",
              "      <td>18</td>\n",
              "      <td>12</td>\n",
              "      <td>6</td>\n",
              "      <td>1</td>\n",
              "      <td>65</td>\n",
              "      <td>28</td>\n",
              "      <td>1025</td>\n",
              "      <td>2009</td>\n",
              "      <td>1</td>\n",
              "      <td>2</td>\n",
              "    </tr>\n",
              "    <tr>\n",
              "      <th>2009-01-03</th>\n",
              "      <td>20</td>\n",
              "      <td>13</td>\n",
              "      <td>5</td>\n",
              "      <td>1</td>\n",
              "      <td>74</td>\n",
              "      <td>40</td>\n",
              "      <td>1022</td>\n",
              "      <td>2009</td>\n",
              "      <td>1</td>\n",
              "      <td>3</td>\n",
              "    </tr>\n",
              "    <tr>\n",
              "      <th>2009-01-04</th>\n",
              "      <td>25</td>\n",
              "      <td>12</td>\n",
              "      <td>5</td>\n",
              "      <td>3</td>\n",
              "      <td>81</td>\n",
              "      <td>46</td>\n",
              "      <td>1018</td>\n",
              "      <td>2009</td>\n",
              "      <td>1</td>\n",
              "      <td>4</td>\n",
              "    </tr>\n",
              "    <tr>\n",
              "      <th>2009-01-05</th>\n",
              "      <td>23</td>\n",
              "      <td>14</td>\n",
              "      <td>5</td>\n",
              "      <td>1</td>\n",
              "      <td>90</td>\n",
              "      <td>75</td>\n",
              "      <td>1017</td>\n",
              "      <td>2009</td>\n",
              "      <td>1</td>\n",
              "      <td>5</td>\n",
              "    </tr>\n",
              "    <tr>\n",
              "      <th>...</th>\n",
              "      <td>...</td>\n",
              "      <td>...</td>\n",
              "      <td>...</td>\n",
              "      <td>...</td>\n",
              "      <td>...</td>\n",
              "      <td>...</td>\n",
              "      <td>...</td>\n",
              "      <td>...</td>\n",
              "      <td>...</td>\n",
              "      <td>...</td>\n",
              "    </tr>\n",
              "    <tr>\n",
              "      <th>2021-06-14</th>\n",
              "      <td>32</td>\n",
              "      <td>25</td>\n",
              "      <td>10</td>\n",
              "      <td>1</td>\n",
              "      <td>74</td>\n",
              "      <td>60</td>\n",
              "      <td>1001</td>\n",
              "      <td>2021</td>\n",
              "      <td>6</td>\n",
              "      <td>14</td>\n",
              "    </tr>\n",
              "    <tr>\n",
              "      <th>2021-06-15</th>\n",
              "      <td>34</td>\n",
              "      <td>26</td>\n",
              "      <td>6</td>\n",
              "      <td>3</td>\n",
              "      <td>67</td>\n",
              "      <td>36</td>\n",
              "      <td>999</td>\n",
              "      <td>2021</td>\n",
              "      <td>6</td>\n",
              "      <td>15</td>\n",
              "    </tr>\n",
              "    <tr>\n",
              "      <th>2021-06-16</th>\n",
              "      <td>37</td>\n",
              "      <td>29</td>\n",
              "      <td>7</td>\n",
              "      <td>3</td>\n",
              "      <td>62</td>\n",
              "      <td>24</td>\n",
              "      <td>1000</td>\n",
              "      <td>2021</td>\n",
              "      <td>6</td>\n",
              "      <td>16</td>\n",
              "    </tr>\n",
              "    <tr>\n",
              "      <th>2021-06-17</th>\n",
              "      <td>38</td>\n",
              "      <td>29</td>\n",
              "      <td>9</td>\n",
              "      <td>3</td>\n",
              "      <td>65</td>\n",
              "      <td>28</td>\n",
              "      <td>1002</td>\n",
              "      <td>2021</td>\n",
              "      <td>6</td>\n",
              "      <td>17</td>\n",
              "    </tr>\n",
              "    <tr>\n",
              "      <th>2021-06-18</th>\n",
              "      <td>38</td>\n",
              "      <td>30</td>\n",
              "      <td>10</td>\n",
              "      <td>3</td>\n",
              "      <td>62</td>\n",
              "      <td>20</td>\n",
              "      <td>1002</td>\n",
              "      <td>2021</td>\n",
              "      <td>6</td>\n",
              "      <td>18</td>\n",
              "    </tr>\n",
              "  </tbody>\n",
              "</table>\n",
              "<p>4549 rows × 10 columns</p>\n",
              "</div>\n",
              "      <button class=\"colab-df-convert\" onclick=\"convertToInteractive('df-503da7ce-ea1b-4716-a412-7780713cc3b8')\"\n",
              "              title=\"Convert this dataframe to an interactive table.\"\n",
              "              style=\"display:none;\">\n",
              "        \n",
              "  <svg xmlns=\"http://www.w3.org/2000/svg\" height=\"24px\"viewBox=\"0 0 24 24\"\n",
              "       width=\"24px\">\n",
              "    <path d=\"M0 0h24v24H0V0z\" fill=\"none\"/>\n",
              "    <path d=\"M18.56 5.44l.94 2.06.94-2.06 2.06-.94-2.06-.94-.94-2.06-.94 2.06-2.06.94zm-11 1L8.5 8.5l.94-2.06 2.06-.94-2.06-.94L8.5 2.5l-.94 2.06-2.06.94zm10 10l.94 2.06.94-2.06 2.06-.94-2.06-.94-.94-2.06-.94 2.06-2.06.94z\"/><path d=\"M17.41 7.96l-1.37-1.37c-.4-.4-.92-.59-1.43-.59-.52 0-1.04.2-1.43.59L10.3 9.45l-7.72 7.72c-.78.78-.78 2.05 0 2.83L4 21.41c.39.39.9.59 1.41.59.51 0 1.02-.2 1.41-.59l7.78-7.78 2.81-2.81c.8-.78.8-2.07 0-2.86zM5.41 20L4 18.59l7.72-7.72 1.47 1.35L5.41 20z\"/>\n",
              "  </svg>\n",
              "      </button>\n",
              "      \n",
              "  <style>\n",
              "    .colab-df-container {\n",
              "      display:flex;\n",
              "      flex-wrap:wrap;\n",
              "      gap: 12px;\n",
              "    }\n",
              "\n",
              "    .colab-df-convert {\n",
              "      background-color: #E8F0FE;\n",
              "      border: none;\n",
              "      border-radius: 50%;\n",
              "      cursor: pointer;\n",
              "      display: none;\n",
              "      fill: #1967D2;\n",
              "      height: 32px;\n",
              "      padding: 0 0 0 0;\n",
              "      width: 32px;\n",
              "    }\n",
              "\n",
              "    .colab-df-convert:hover {\n",
              "      background-color: #E2EBFA;\n",
              "      box-shadow: 0px 1px 2px rgba(60, 64, 67, 0.3), 0px 1px 3px 1px rgba(60, 64, 67, 0.15);\n",
              "      fill: #174EA6;\n",
              "    }\n",
              "\n",
              "    [theme=dark] .colab-df-convert {\n",
              "      background-color: #3B4455;\n",
              "      fill: #D2E3FC;\n",
              "    }\n",
              "\n",
              "    [theme=dark] .colab-df-convert:hover {\n",
              "      background-color: #434B5C;\n",
              "      box-shadow: 0px 1px 3px 1px rgba(0, 0, 0, 0.15);\n",
              "      filter: drop-shadow(0px 1px 2px rgba(0, 0, 0, 0.3));\n",
              "      fill: #FFFFFF;\n",
              "    }\n",
              "  </style>\n",
              "\n",
              "      <script>\n",
              "        const buttonEl =\n",
              "          document.querySelector('#df-503da7ce-ea1b-4716-a412-7780713cc3b8 button.colab-df-convert');\n",
              "        buttonEl.style.display =\n",
              "          google.colab.kernel.accessAllowed ? 'block' : 'none';\n",
              "\n",
              "        async function convertToInteractive(key) {\n",
              "          const element = document.querySelector('#df-503da7ce-ea1b-4716-a412-7780713cc3b8');\n",
              "          const dataTable =\n",
              "            await google.colab.kernel.invokeFunction('convertToInteractive',\n",
              "                                                     [key], {});\n",
              "          if (!dataTable) return;\n",
              "\n",
              "          const docLinkHtml = 'Like what you see? Visit the ' +\n",
              "            '<a target=\"_blank\" href=https://colab.research.google.com/notebooks/data_table.ipynb>data table notebook</a>'\n",
              "            + ' to learn more about interactive tables.';\n",
              "          element.innerHTML = '';\n",
              "          dataTable['output_type'] = 'display_data';\n",
              "          await google.colab.output.renderOutput(dataTable, element);\n",
              "          const docLink = document.createElement('div');\n",
              "          docLink.innerHTML = docLinkHtml;\n",
              "          element.appendChild(docLink);\n",
              "        }\n",
              "      </script>\n",
              "    </div>\n",
              "  </div>\n",
              "  "
            ]
          },
          "metadata": {},
          "execution_count": 62
        }
      ],
      "source": [
        "df_final = df_final.set_index('date').drop(['weather'],axis=1)\n",
        "df_final"
      ]
    },
    {
      "cell_type": "markdown",
      "metadata": {
        "id": "HXTD7yYPCO82"
      },
      "source": [
        "# Pre-process"
      ]
    },
    {
      "cell_type": "code",
      "execution_count": 63,
      "metadata": {
        "id": "VUJwjdCCT4fX"
      },
      "outputs": [],
      "source": [
        "# Preprocess Data for Machine Learning Development\n",
        "X = df_final.drop(['weather label'], axis = 1)\n",
        "y = df_final['weather label']"
      ]
    },
    {
      "cell_type": "code",
      "source": [
        "y.value_counts()"
      ],
      "metadata": {
        "colab": {
          "base_uri": "https://localhost:8080/"
        },
        "id": "C4B9IpBtYBSa",
        "outputId": "affbbc49-3d1e-4753-8f75-ba6fe3e5b3c2"
      },
      "execution_count": 64,
      "outputs": [
        {
          "output_type": "execute_result",
          "data": {
            "text/plain": [
              "1    1876\n",
              "3    1151\n",
              "2     943\n",
              "0     563\n",
              "4      16\n",
              "Name: weather label, dtype: int64"
            ]
          },
          "metadata": {},
          "execution_count": 64
        }
      ]
    },
    {
      "cell_type": "code",
      "execution_count": 65,
      "metadata": {
        "id": "ZNyq1VByaJuH"
      },
      "outputs": [],
      "source": [
        "from sklearn.model_selection import train_test_split\n",
        "X_train,X_test,y_train,y_test = train_test_split(X,y,random_state = 10, test_size = 0.2)"
      ]
    },
    {
      "cell_type": "code",
      "execution_count": 66,
      "metadata": {
        "id": "zXs1-PwtTVn6"
      },
      "outputs": [],
      "source": [
        "from sklearn.preprocessing import StandardScaler\n",
        "scaler = StandardScaler()\n",
        "X_scaled = scaler.fit_transform(X)\n",
        "X_train_scaled = scaler.fit_transform(X_train)\n",
        "X_test_scaled = scaler.transform(X_test)"
      ]
    },
    {
      "cell_type": "markdown",
      "metadata": {
        "id": "z3E09uXgt3fx"
      },
      "source": [
        "# **CLASSIFICATION**"
      ]
    },
    {
      "cell_type": "markdown",
      "metadata": {
        "id": "deK0r15ibbWB"
      },
      "source": [
        "## Decision Tree"
      ]
    },
    {
      "cell_type": "code",
      "execution_count": 98,
      "metadata": {
        "id": "-eV7tc1dcXjg"
      },
      "outputs": [],
      "source": [
        "from sklearn import tree\n",
        "from sklearn.tree import DecisionTreeClassifier\n",
        "clf = DecisionTreeClassifier(random_state=42, criterion= 'entropy')\n",
        "clf = clf.fit(X_train, y_train)"
      ]
    },
    {
      "cell_type": "code",
      "execution_count": 99,
      "metadata": {
        "colab": {
          "base_uri": "https://localhost:8080/"
        },
        "id": "yYUqAncsc9B9",
        "outputId": "79fb2d67-955d-4a7c-80ca-df393db32e96"
      },
      "outputs": [
        {
          "output_type": "stream",
          "name": "stdout",
          "text": [
            "Accuracy Score on Test Data : 60.0\n"
          ]
        }
      ],
      "source": [
        "from sklearn.metrics import accuracy_score, classification_report\n",
        "\n",
        "pred_test_DT = clf.predict(X_test)\n",
        "\n",
        "print(f'Accuracy Score on Test Data : {round(accuracy_score(y_test, pred_test_DT),2)*100}')"
      ]
    },
    {
      "cell_type": "code",
      "execution_count": 100,
      "metadata": {
        "id": "UqF4-Imh5oMU"
      },
      "outputs": [],
      "source": [
        "from sklearn.tree import DecisionTreeClassifier\n",
        "DT_clf = DecisionTreeClassifier(random_state=0)\n",
        "\n",
        "from sklearn.model_selection import cross_val_score\n",
        "DT_scores = cross_val_score(clf, X_train, y_train, cv=10)"
      ]
    },
    {
      "cell_type": "code",
      "execution_count": 101,
      "metadata": {
        "colab": {
          "base_uri": "https://localhost:8080/"
        },
        "id": "GLj9N5FT6Bu_",
        "outputId": "322318a4-4c7d-421b-995c-651ebd64c0c6"
      },
      "outputs": [
        {
          "output_type": "execute_result",
          "data": {
            "text/plain": [
              "0.5548247207338116"
            ]
          },
          "metadata": {},
          "execution_count": 101
        }
      ],
      "source": [
        "DT_scores.mean()"
      ]
    },
    {
      "cell_type": "markdown",
      "metadata": {
        "id": "j0JPvwKZSvn2"
      },
      "source": [
        "## Random Forest"
      ]
    },
    {
      "cell_type": "code",
      "execution_count": 71,
      "metadata": {
        "id": "6dPWgKPyS0rd"
      },
      "outputs": [],
      "source": [
        "from sklearn.preprocessing import StandardScaler\n",
        "from sklearn.ensemble import RandomForestClassifier"
      ]
    },
    {
      "cell_type": "code",
      "execution_count": 97,
      "metadata": {
        "colab": {
          "base_uri": "https://localhost:8080/",
          "height": 74
        },
        "id": "9mJq5Nd8UQ50",
        "outputId": "1e45dbd6-7580-4b59-d92c-567aaac33e27"
      },
      "outputs": [
        {
          "output_type": "execute_result",
          "data": {
            "text/plain": [
              "RandomForestClassifier(criterion='entropy', n_estimators=128, random_state=42)"
            ],
            "text/html": [
              "<style>#sk-container-id-6 {color: black;background-color: white;}#sk-container-id-6 pre{padding: 0;}#sk-container-id-6 div.sk-toggleable {background-color: white;}#sk-container-id-6 label.sk-toggleable__label {cursor: pointer;display: block;width: 100%;margin-bottom: 0;padding: 0.3em;box-sizing: border-box;text-align: center;}#sk-container-id-6 label.sk-toggleable__label-arrow:before {content: \"▸\";float: left;margin-right: 0.25em;color: #696969;}#sk-container-id-6 label.sk-toggleable__label-arrow:hover:before {color: black;}#sk-container-id-6 div.sk-estimator:hover label.sk-toggleable__label-arrow:before {color: black;}#sk-container-id-6 div.sk-toggleable__content {max-height: 0;max-width: 0;overflow: hidden;text-align: left;background-color: #f0f8ff;}#sk-container-id-6 div.sk-toggleable__content pre {margin: 0.2em;color: black;border-radius: 0.25em;background-color: #f0f8ff;}#sk-container-id-6 input.sk-toggleable__control:checked~div.sk-toggleable__content {max-height: 200px;max-width: 100%;overflow: auto;}#sk-container-id-6 input.sk-toggleable__control:checked~label.sk-toggleable__label-arrow:before {content: \"▾\";}#sk-container-id-6 div.sk-estimator input.sk-toggleable__control:checked~label.sk-toggleable__label {background-color: #d4ebff;}#sk-container-id-6 div.sk-label input.sk-toggleable__control:checked~label.sk-toggleable__label {background-color: #d4ebff;}#sk-container-id-6 input.sk-hidden--visually {border: 0;clip: rect(1px 1px 1px 1px);clip: rect(1px, 1px, 1px, 1px);height: 1px;margin: -1px;overflow: hidden;padding: 0;position: absolute;width: 1px;}#sk-container-id-6 div.sk-estimator {font-family: monospace;background-color: #f0f8ff;border: 1px dotted black;border-radius: 0.25em;box-sizing: border-box;margin-bottom: 0.5em;}#sk-container-id-6 div.sk-estimator:hover {background-color: #d4ebff;}#sk-container-id-6 div.sk-parallel-item::after {content: \"\";width: 100%;border-bottom: 1px solid gray;flex-grow: 1;}#sk-container-id-6 div.sk-label:hover label.sk-toggleable__label {background-color: #d4ebff;}#sk-container-id-6 div.sk-serial::before {content: \"\";position: absolute;border-left: 1px solid gray;box-sizing: border-box;top: 0;bottom: 0;left: 50%;z-index: 0;}#sk-container-id-6 div.sk-serial {display: flex;flex-direction: column;align-items: center;background-color: white;padding-right: 0.2em;padding-left: 0.2em;position: relative;}#sk-container-id-6 div.sk-item {position: relative;z-index: 1;}#sk-container-id-6 div.sk-parallel {display: flex;align-items: stretch;justify-content: center;background-color: white;position: relative;}#sk-container-id-6 div.sk-item::before, #sk-container-id-6 div.sk-parallel-item::before {content: \"\";position: absolute;border-left: 1px solid gray;box-sizing: border-box;top: 0;bottom: 0;left: 50%;z-index: -1;}#sk-container-id-6 div.sk-parallel-item {display: flex;flex-direction: column;z-index: 1;position: relative;background-color: white;}#sk-container-id-6 div.sk-parallel-item:first-child::after {align-self: flex-end;width: 50%;}#sk-container-id-6 div.sk-parallel-item:last-child::after {align-self: flex-start;width: 50%;}#sk-container-id-6 div.sk-parallel-item:only-child::after {width: 0;}#sk-container-id-6 div.sk-dashed-wrapped {border: 1px dashed gray;margin: 0 0.4em 0.5em 0.4em;box-sizing: border-box;padding-bottom: 0.4em;background-color: white;}#sk-container-id-6 div.sk-label label {font-family: monospace;font-weight: bold;display: inline-block;line-height: 1.2em;}#sk-container-id-6 div.sk-label-container {text-align: center;}#sk-container-id-6 div.sk-container {/* jupyter's `normalize.less` sets `[hidden] { display: none; }` but bootstrap.min.css set `[hidden] { display: none !important; }` so we also need the `!important` here to be able to override the default hidden behavior on the sphinx rendered scikit-learn.org. See: https://github.com/scikit-learn/scikit-learn/issues/21755 */display: inline-block !important;position: relative;}#sk-container-id-6 div.sk-text-repr-fallback {display: none;}</style><div id=\"sk-container-id-6\" class=\"sk-top-container\"><div class=\"sk-text-repr-fallback\"><pre>RandomForestClassifier(criterion=&#x27;entropy&#x27;, n_estimators=128, random_state=42)</pre><b>In a Jupyter environment, please rerun this cell to show the HTML representation or trust the notebook. <br />On GitHub, the HTML representation is unable to render, please try loading this page with nbviewer.org.</b></div><div class=\"sk-container\" hidden><div class=\"sk-item\"><div class=\"sk-estimator sk-toggleable\"><input class=\"sk-toggleable__control sk-hidden--visually\" id=\"sk-estimator-id-6\" type=\"checkbox\" checked><label for=\"sk-estimator-id-6\" class=\"sk-toggleable__label sk-toggleable__label-arrow\">RandomForestClassifier</label><div class=\"sk-toggleable__content\"><pre>RandomForestClassifier(criterion=&#x27;entropy&#x27;, n_estimators=128, random_state=42)</pre></div></div></div></div></div>"
            ]
          },
          "metadata": {},
          "execution_count": 97
        }
      ],
      "source": [
        "# ntree = sqrt (number of row * number of columns)/numberofcpu\n",
        "classifier = RandomForestClassifier(n_estimators = 128, criterion = 'entropy', random_state = 42)\n",
        "classifier.fit(X_train, y_train)"
      ]
    },
    {
      "cell_type": "code",
      "execution_count": 73,
      "metadata": {
        "colab": {
          "base_uri": "https://localhost:8080/"
        },
        "id": "Wr6DKwNNZSyI",
        "outputId": "4cfa4cf6-30bd-4ecf-82e4-4f75d6eb6d87"
      },
      "outputs": [
        {
          "output_type": "stream",
          "name": "stdout",
          "text": [
            "Accuracy Score on Test Data : 66.0\n"
          ]
        }
      ],
      "source": [
        "from sklearn.metrics import accuracy_score, classification_report\n",
        "# pred_all_RF = classifier.predict(X)\n",
        "# pred_train_RF = classifier.predict(X_train_scaled)\n",
        "pred_test_RF = classifier.predict(X_test)\n",
        "\n",
        "# print(f'Accuracy Score on All Data : {round(accuracy_score(y, pred_all_RF),2)*100}')\n",
        "# print(f'Accuracy Score on Train Data : {round(accuracy_score(y_train, pred_train_RF),2)*100}')\n",
        "print(f'Accuracy Score on Test Data : {round(accuracy_score(y_test, pred_test_RF),2)*100}')"
      ]
    },
    {
      "cell_type": "code",
      "execution_count": 74,
      "metadata": {
        "colab": {
          "base_uri": "https://localhost:8080/",
          "height": 448
        },
        "id": "FkQMJ-igvRJO",
        "outputId": "ea0fd15f-8274-4ddc-c333-1398fa97c856"
      },
      "outputs": [
        {
          "output_type": "display_data",
          "data": {
            "text/plain": [
              "<Figure size 1080x504 with 2 Axes>"
            ],
            "image/png": "[encoded data removed]"
          },
          "metadata": {}
        }
      ],
      "source": [
        "from sklearn.metrics import confusion_matrix, ConfusionMatrixDisplay\n",
        "\n",
        "cm1 = confusion_matrix(y_test, pred_test_RF)\n",
        "\n",
        "disp = ConfusionMatrixDisplay(confusion_matrix=cm1, display_labels=classifier.classes_)\n",
        "disp = disp.plot(include_values=True, cmap='viridis', ax=None, xticks_rotation='horizontal')\n",
        "plt.grid(False)\n",
        "plt.show()"
      ]
    },
    {
      "cell_type": "code",
      "execution_count": 75,
      "metadata": {
        "colab": {
          "base_uri": "https://localhost:8080/"
        },
        "id": "231gZfOt8fra",
        "outputId": "067c43c3-90cd-4499-af7d-02f94a50020a"
      },
      "outputs": [
        {
          "output_type": "stream",
          "name": "stdout",
          "text": [
            "Classification accuracy : 0.9708\n",
            "Classification error : 0.0292\n"
          ]
        }
      ],
      "source": [
        "TP = cm1[0,0]\n",
        "TN = cm1[1,1]\n",
        "FP = cm1[0,1]\n",
        "FN = cm1[1,0]\n",
        "\n",
        "classification_accuracy = (TP + TN) / float(TP + TN + FP + FN)\n",
        "classification_error = (FP + FN) / float(TP + TN + FP + FN)\n",
        "print('Classification accuracy : {0:0.4f}'.format(classification_accuracy))\n",
        "print('Classification error : {0:0.4f}'.format(classification_error))"
      ]
    },
    {
      "cell_type": "markdown",
      "metadata": {
        "id": "Cj2aLzsSk-ir"
      },
      "source": [
        "## KNN"
      ]
    },
    {
      "cell_type": "code",
      "execution_count": 102,
      "metadata": {
        "colab": {
          "base_uri": "https://localhost:8080/",
          "height": 74
        },
        "id": "mv_h3lQzlFVI",
        "outputId": "6f87029f-c60b-4787-fded-5d7f01739d10"
      },
      "outputs": [
        {
          "output_type": "execute_result",
          "data": {
            "text/plain": [
              "KNeighborsClassifier(n_neighbors=2)"
            ],
            "text/html": [
              "<style>#sk-container-id-7 {color: black;background-color: white;}#sk-container-id-7 pre{padding: 0;}#sk-container-id-7 div.sk-toggleable {background-color: white;}#sk-container-id-7 label.sk-toggleable__label {cursor: pointer;display: block;width: 100%;margin-bottom: 0;padding: 0.3em;box-sizing: border-box;text-align: center;}#sk-container-id-7 label.sk-toggleable__label-arrow:before {content: \"▸\";float: left;margin-right: 0.25em;color: #696969;}#sk-container-id-7 label.sk-toggleable__label-arrow:hover:before {color: black;}#sk-container-id-7 div.sk-estimator:hover label.sk-toggleable__label-arrow:before {color: black;}#sk-container-id-7 div.sk-toggleable__content {max-height: 0;max-width: 0;overflow: hidden;text-align: left;background-color: #f0f8ff;}#sk-container-id-7 div.sk-toggleable__content pre {margin: 0.2em;color: black;border-radius: 0.25em;background-color: #f0f8ff;}#sk-container-id-7 input.sk-toggleable__control:checked~div.sk-toggleable__content {max-height: 200px;max-width: 100%;overflow: auto;}#sk-container-id-7 input.sk-toggleable__control:checked~label.sk-toggleable__label-arrow:before {content: \"▾\";}#sk-container-id-7 div.sk-estimator input.sk-toggleable__control:checked~label.sk-toggleable__label {background-color: #d4ebff;}#sk-container-id-7 div.sk-label input.sk-toggleable__control:checked~label.sk-toggleable__label {background-color: #d4ebff;}#sk-container-id-7 input.sk-hidden--visually {border: 0;clip: rect(1px 1px 1px 1px);clip: rect(1px, 1px, 1px, 1px);height: 1px;margin: -1px;overflow: hidden;padding: 0;position: absolute;width: 1px;}#sk-container-id-7 div.sk-estimator {font-family: monospace;background-color: #f0f8ff;border: 1px dotted black;border-radius: 0.25em;box-sizing: border-box;margin-bottom: 0.5em;}#sk-container-id-7 div.sk-estimator:hover {background-color: #d4ebff;}#sk-container-id-7 div.sk-parallel-item::after {content: \"\";width: 100%;border-bottom: 1px solid gray;flex-grow: 1;}#sk-container-id-7 div.sk-label:hover label.sk-toggleable__label {background-color: #d4ebff;}#sk-container-id-7 div.sk-serial::before {content: \"\";position: absolute;border-left: 1px solid gray;box-sizing: border-box;top: 0;bottom: 0;left: 50%;z-index: 0;}#sk-container-id-7 div.sk-serial {display: flex;flex-direction: column;align-items: center;background-color: white;padding-right: 0.2em;padding-left: 0.2em;position: relative;}#sk-container-id-7 div.sk-item {position: relative;z-index: 1;}#sk-container-id-7 div.sk-parallel {display: flex;align-items: stretch;justify-content: center;background-color: white;position: relative;}#sk-container-id-7 div.sk-item::before, #sk-container-id-7 div.sk-parallel-item::before {content: \"\";position: absolute;border-left: 1px solid gray;box-sizing: border-box;top: 0;bottom: 0;left: 50%;z-index: -1;}#sk-container-id-7 div.sk-parallel-item {display: flex;flex-direction: column;z-index: 1;position: relative;background-color: white;}#sk-container-id-7 div.sk-parallel-item:first-child::after {align-self: flex-end;width: 50%;}#sk-container-id-7 div.sk-parallel-item:last-child::after {align-self: flex-start;width: 50%;}#sk-container-id-7 div.sk-parallel-item:only-child::after {width: 0;}#sk-container-id-7 div.sk-dashed-wrapped {border: 1px dashed gray;margin: 0 0.4em 0.5em 0.4em;box-sizing: border-box;padding-bottom: 0.4em;background-color: white;}#sk-container-id-7 div.sk-label label {font-family: monospace;font-weight: bold;display: inline-block;line-height: 1.2em;}#sk-container-id-7 div.sk-label-container {text-align: center;}#sk-container-id-7 div.sk-container {/* jupyter's `normalize.less` sets `[hidden] { display: none; }` but bootstrap.min.css set `[hidden] { display: none !important; }` so we also need the `!important` here to be able to override the default hidden behavior on the sphinx rendered scikit-learn.org. See: https://github.com/scikit-learn/scikit-learn/issues/21755 */display: inline-block !important;position: relative;}#sk-container-id-7 div.sk-text-repr-fallback {display: none;}</style><div id=\"sk-container-id-7\" class=\"sk-top-container\"><div class=\"sk-text-repr-fallback\"><pre>KNeighborsClassifier(n_neighbors=2)</pre><b>In a Jupyter environment, please rerun this cell to show the HTML representation or trust the notebook. <br />On GitHub, the HTML representation is unable to render, please try loading this page with nbviewer.org.</b></div><div class=\"sk-container\" hidden><div class=\"sk-item\"><div class=\"sk-estimator sk-toggleable\"><input class=\"sk-toggleable__control sk-hidden--visually\" id=\"sk-estimator-id-7\" type=\"checkbox\" checked><label for=\"sk-estimator-id-7\" class=\"sk-toggleable__label sk-toggleable__label-arrow\">KNeighborsClassifier</label><div class=\"sk-toggleable__content\"><pre>KNeighborsClassifier(n_neighbors=2)</pre></div></div></div></div></div>"
            ]
          },
          "metadata": {},
          "execution_count": 102
        }
      ],
      "source": [
        "from sklearn.neighbors import KNeighborsClassifier\n",
        "neigh = KNeighborsClassifier(n_neighbors=2)\n",
        "neigh.fit(X_train, y_train)"
      ]
    },
    {
      "cell_type": "code",
      "execution_count": 103,
      "metadata": {
        "colab": {
          "base_uri": "https://localhost:8080/"
        },
        "id": "wqY4YKNPlR0I",
        "outputId": "6a1e10cc-c752-40e4-ac6d-6c00a5eb53f6"
      },
      "outputs": [
        {
          "output_type": "stream",
          "name": "stdout",
          "text": [
            "Accuracy Score on Test Data : 59.0\n"
          ]
        }
      ],
      "source": [
        "# pred_all_KNN = neigh.predict(X)\n",
        "# pred_train_KNN = neigh.predict(X_train)\n",
        "pred_test_KNN = neigh.predict(X_test)\n",
        "\n",
        "# print(f'Accuracy Score on All Data : {round(accuracy_score(y, pred_all_KNN),2)*100}')\n",
        "# print(f'Accuracy Score on Train Data : {round(accuracy_score(y_train, pred_train_KNN),2)*100}')\n",
        "print(f'Accuracy Score on Test Data : {round(accuracy_score(y_test, pred_test_KNN),2)*100}')"
      ]
    },
    {
      "cell_type": "code",
      "execution_count": 104,
      "metadata": {
        "colab": {
          "base_uri": "https://localhost:8080/",
          "height": 448
        },
        "id": "TSUDllS_n9nx",
        "outputId": "4394bc90-1e5e-42d3-caf5-ce068368be1d"
      },
      "outputs": [
        {
          "output_type": "display_data",
          "data": {
            "text/plain": [
              "<Figure size 1080x504 with 2 Axes>"
            ],
            "image/png": "[encoded data removed]"
          },
          "metadata": {}
        }
      ],
      "source": [
        "from sklearn.metrics import confusion_matrix, ConfusionMatrixDisplay\n",
        "\n",
        "cm2 = confusion_matrix(y_test, pred_test_KNN)\n",
        "\n",
        "disp = ConfusionMatrixDisplay(confusion_matrix=cm2, display_labels=neigh.classes_)\n",
        "disp = disp.plot(include_values=True, cmap='viridis', ax=None, xticks_rotation='horizontal')\n",
        "plt.grid(False)\n",
        "plt.show()"
      ]
    },
    {
      "cell_type": "code",
      "execution_count": 105,
      "metadata": {
        "colab": {
          "base_uri": "https://localhost:8080/"
        },
        "id": "X12GG8L1onaE",
        "outputId": "14547f7a-f6ba-41c8-d2f5-2c7b2dc56416"
      },
      "outputs": [
        {
          "output_type": "stream",
          "name": "stdout",
          "text": [
            "              precision    recall  f1-score   support\n",
            "\n",
            "           0       0.36      0.58      0.45       108\n",
            "           1       0.61      0.83      0.70       386\n",
            "           2       0.38      0.16      0.23       178\n",
            "           3       0.91      0.52      0.66       235\n",
            "           4       0.00      0.00      0.00         3\n",
            "\n",
            "    accuracy                           0.59       910\n",
            "   macro avg       0.45      0.42      0.41       910\n",
            "weighted avg       0.61      0.59      0.57       910\n",
            "\n"
          ]
        },
        {
          "output_type": "stream",
          "name": "stderr",
          "text": [
            "/usr/local/lib/python3.9/dist-packages/sklearn/metrics/_classification.py:1344: UndefinedMetricWarning: Precision and F-score are ill-defined and being set to 0.0 in labels with no predicted samples. Use `zero_division` parameter to control this behavior.\n",
            "  _warn_prf(average, modifier, msg_start, len(result))\n",
            "/usr/local/lib/python3.9/dist-packages/sklearn/metrics/_classification.py:1344: UndefinedMetricWarning: Precision and F-score are ill-defined and being set to 0.0 in labels with no predicted samples. Use `zero_division` parameter to control this behavior.\n",
            "  _warn_prf(average, modifier, msg_start, len(result))\n",
            "/usr/local/lib/python3.9/dist-packages/sklearn/metrics/_classification.py:1344: UndefinedMetricWarning: Precision and F-score are ill-defined and being set to 0.0 in labels with no predicted samples. Use `zero_division` parameter to control this behavior.\n",
            "  _warn_prf(average, modifier, msg_start, len(result))\n"
          ]
        }
      ],
      "source": [
        "print(classification_report(y_test,pred_test_KNN))"
      ]
    },
    {
      "cell_type": "code",
      "execution_count": 106,
      "metadata": {
        "colab": {
          "base_uri": "https://localhost:8080/"
        },
        "id": "Ng6BbzvOos1g",
        "outputId": "f43160be-6174-4833-e9d4-bd33af0f47ab"
      },
      "outputs": [
        {
          "output_type": "stream",
          "name": "stdout",
          "text": [
            "Classification accuracy : 0.8584\n",
            "Classification error : 0.1416\n"
          ]
        }
      ],
      "source": [
        "TP = cm2[0,0]\n",
        "TN = cm2[1,1]\n",
        "FP = cm2[0,1]\n",
        "FN = cm2[1,0]\n",
        "\n",
        "classification_accuracy = (TP + TN) / float(TP + TN + FP + FN)\n",
        "classification_error = (FP + FN) / float(TP + TN + FP + FN)\n",
        "print('Classification accuracy : {0:0.4f}'.format(classification_accuracy))\n",
        "print('Classification error : {0:0.4f}'.format(classification_error))"
      ]
    },
    {
      "cell_type": "markdown",
      "metadata": {
        "id": "ynTGlQ6Q5QdZ"
      },
      "source": [
        "## Neural Network"
      ]
    },
    {
      "cell_type": "code",
      "execution_count": 81,
      "metadata": {
        "id": "iGmK35tp5PwU"
      },
      "outputs": [],
      "source": [
        "import keras\n",
        "from keras.utils.np_utils import to_categorical\n",
        "from keras.models import Sequential\n",
        "from keras.layers import Dense, Dropout\n",
        "from keras.callbacks import ModelCheckpoint, EarlyStopping\n",
        "from keras.optimizers import Adam"
      ]
    },
    {
      "cell_type": "code",
      "execution_count": 82,
      "metadata": {
        "id": "bDAoTQ_y5u7t"
      },
      "outputs": [],
      "source": [
        "X_train_array = np.array(X_train_scaled)\n",
        "X_test_array = np.array(X_test_scaled)\n",
        "y_train_array = np.array(y_train)\n",
        "y_test_array = np.array(y_test)"
      ]
    },
    {
      "cell_type": "code",
      "execution_count": 83,
      "metadata": {
        "id": "SK3ezX0X8emN"
      },
      "outputs": [],
      "source": [
        "Y_train = to_categorical(y_train_array)\n",
        "Y_test = to_categorical(y_test_array)"
      ]
    },
    {
      "cell_type": "markdown",
      "metadata": {
        "id": "rcrgEhK5aWyr"
      },
      "source": [
        "### [Determining Hidden Layers and Hidden Neurons ](https://www.ncbi.nlm.nih.gov/pmc/articles/PMC8459779/#:~:text=The%20neuron%20number%20%3D%20N%20%E2%88%92%201,N%20%3D%20the%20input%20feature%20number%20.&text=The%20neuron%20number%20of%20the,the%20number%20of%20input%20feature%20.)"
      ]
    },
    {
      "cell_type": "markdown",
      "metadata": {
        "id": "GhqxYOX0lS_L"
      },
      "source": [
        "[idfk](https://www.kaggle.com/questions-and-answers/142430)"
      ]
    },
    {
      "cell_type": "code",
      "execution_count": 84,
      "metadata": {
        "colab": {
          "base_uri": "https://localhost:8080/"
        },
        "id": "W2tYCLLebBe2",
        "outputId": "3ba3db8f-199d-4da1-94f3-0ea970b569af"
      },
      "outputs": [
        {
          "output_type": "stream",
          "name": "stdout",
          "text": [
            "[2.95685367 1.70006658 1.49281946 1.00324995 0.9389084  0.49987228]\n",
            "[0.32846707 0.18885476 0.16583237 0.11144771 0.10430022 0.05552916]\n"
          ]
        }
      ],
      "source": [
        "from sklearn.decomposition import PCA\n",
        "#idfk\n",
        "pca = PCA(n_components=6)\n",
        "pc_X = pca.fit_transform(X_scaled)\n",
        "pc_X = ['pc1','pc2','pc3','pc4','pc5','pc6']\n",
        "print(pca.explained_variance_)\n",
        "print(pca.explained_variance_ratio_)"
      ]
    },
    {
      "cell_type": "code",
      "execution_count": 85,
      "metadata": {
        "colab": {
          "base_uri": "https://localhost:8080/"
        },
        "id": "h3L_ckvUZS-V",
        "outputId": "23a45b46-738b-4428-cfe4-6ea631c62d17"
      },
      "outputs": [
        {
          "output_type": "stream",
          "name": "stdout",
          "text": [
            "[40941.0, 31340.30603549313, 27430.52798405457, 24676.75057775766, 22388.129435920382, 20838.422304377746, 19692.319299748335, 18643.88446466528, 17872.399572309347, 17268.904943690628, 16732.46372407872, 16209.348741592554, 15754.016391496898, 15346.937180851412, 14914.191784080953, 14532.476118167535, 14200.82873952594, 13832.901705751083, 13594.637797498253, 13310.216385555392]\n"
          ]
        }
      ],
      "source": [
        "from sklearn.cluster import KMeans\n",
        "#try to find optimal k using the elbow method\n",
        "wcss = []\n",
        "for i in range(1,21):\n",
        "    kmeans = KMeans(n_clusters=i,init='k-means++',max_iter=300, n_init=12, random_state=0)\n",
        "    kmeans.fit(X_scaled)\n",
        "    wcss.append(kmeans.inertia_)\n",
        "print(wcss)"
      ]
    },
    {
      "cell_type": "code",
      "execution_count": 86,
      "metadata": {
        "colab": {
          "base_uri": "https://localhost:8080/",
          "height": 410
        },
        "id": "sdVYv2y-q9PO",
        "outputId": "9951efb4-a5f9-42fb-d23f-c4847bf51a28"
      },
      "outputs": [
        {
          "output_type": "display_data",
          "data": {
            "text/plain": [
              "<Figure size 576x432 with 1 Axes>"
            ],
            "image/png": "[encoded data removed]"
          },
          "metadata": {
            "needs_background": "light"
          }
        }
      ],
      "source": [
        "import matplotlib.pyplot as plt\n",
        "%matplotlib inline\n",
        "f3, ax = plt.subplots(figsize=(8, 6))\n",
        "plt.plot(range(1,21),wcss)\n",
        "plt.title('The Elbow Method')\n",
        "plt.xlabel('Number of clusters')\n",
        "plt.ylabel('WCSS')\n",
        "plt.show()"
      ]
    },
    {
      "cell_type": "markdown",
      "metadata": {
        "id": "H7iPg18fbaQ6"
      },
      "source": [
        "### Train"
      ]
    },
    {
      "cell_type": "code",
      "execution_count": 87,
      "metadata": {
        "id": "se6d2bXK53P9"
      },
      "outputs": [],
      "source": [
        "from keras.initializers import glorot_uniform\n",
        "from sklearn.utils import class_weight\n",
        "from keras import optimizers\n",
        "\"\"\"\n",
        "model = Sequential()\n",
        "model.add(Dense(9, input_dim = dim, activation = 'relu'))\n",
        "model.add(Dense(10, activation = 'relu'))\n",
        "model.add(Dense(10, activation = 'relu'))\n",
        "model.add(Dense(10, activation = 'relu'))\n",
        "model.add(Dense(5, activation = 'softmax'))\n",
        "\"\"\"\n",
        "\n",
        "\"\"\"\n",
        "model = Sequential()\n",
        "model.add(Dense(16, input_shape=(dim,)))\n",
        "model.add(Activation('sigmoid'))\n",
        "model.add(Dense(5))\n",
        "model.add(Activation('softmax'))\n",
        "\"\"\"\n",
        "\"\"\"\n",
        "initializer = keras.initializers.GlorotUniform()\n",
        "\n",
        "model = Sequential()\n",
        "model.add(Dense(9, input_dim = dim, kernel_initializer=initializer))\n",
        "model.add(Dense(11, activation = \"relu\"))\n",
        "model.add(Dense(11, activation = \"relu\"))\n",
        "model.add(Dense(11, activation = \"relu\"))\n",
        "model.add(Dense(11, activation = \"relu\"))\n",
        "model.add(Dense(5, activation = \"softmax\"))\n",
        "model.compile(Adam(lr = 0.01), \"categorical_crossentropy\", metrics = [\"accuracy\"])\n",
        "model.summary()\n",
        "\"\"\"\n",
        "\n",
        "# Define the number of classes\n",
        "num_classes = 5\n",
        "\n",
        "# Define the input dimension\n",
        "dim = len(X.columns)\n",
        "\n",
        "# Create a sequential model\n",
        "model = Sequential()\n",
        "\n",
        "# Add the input layer\n",
        "model.add(Dense(32, input_dim=dim, activation='relu'))\n",
        "\n",
        "# Add a hidden layer\n",
        "model.add(Dense(64, activation='relu'))\n",
        "\n",
        "# Add the output layer\n",
        "model.add(Dense(num_classes, activation='softmax'))\n",
        "\n",
        "# Compile the model with categorical cross-entropy loss and Adam optimizer\n",
        "model.compile(loss='categorical_crossentropy', optimizer='adam', metrics=['accuracy'])"
      ]
    },
    {
      "cell_type": "code",
      "execution_count": 88,
      "metadata": {
        "colab": {
          "base_uri": "https://localhost:8080/"
        },
        "id": "dKtE6qqctLCN",
        "outputId": "89f9cfe3-fc7d-4c54-c9db-f544fb5af630"
      },
      "outputs": [
        {
          "output_type": "stream",
          "name": "stdout",
          "text": [
            "Epoch 1/100\n",
            "3639/3639 [==============================] - 6s 2ms/step - loss: 0.9422 - accuracy: 0.5991\n",
            "Epoch 2/100\n",
            "3639/3639 [==============================] - 7s 2ms/step - loss: 0.8325 - accuracy: 0.6320\n",
            "Epoch 3/100\n",
            "3639/3639 [==============================] - 6s 2ms/step - loss: 0.8067 - accuracy: 0.6444\n",
            "Epoch 4/100\n",
            "3639/3639 [==============================] - 6s 2ms/step - loss: 0.7907 - accuracy: 0.6516\n",
            "Epoch 5/100\n",
            "3639/3639 [==============================] - 7s 2ms/step - loss: 0.7816 - accuracy: 0.6367\n",
            "Epoch 6/100\n",
            "3639/3639 [==============================] - 6s 2ms/step - loss: 0.7719 - accuracy: 0.6587\n",
            "Epoch 7/100\n",
            "3639/3639 [==============================] - 7s 2ms/step - loss: 0.7643 - accuracy: 0.6584\n",
            "Epoch 8/100\n",
            "3639/3639 [==============================] - 6s 2ms/step - loss: 0.7603 - accuracy: 0.6581\n",
            "Epoch 9/100\n",
            "3639/3639 [==============================] - 6s 2ms/step - loss: 0.7563 - accuracy: 0.6628\n",
            "Epoch 10/100\n",
            "3639/3639 [==============================] - 8s 2ms/step - loss: 0.7426 - accuracy: 0.6645\n",
            "Epoch 11/100\n",
            "3639/3639 [==============================] - 6s 2ms/step - loss: 0.7392 - accuracy: 0.6705\n",
            "Epoch 12/100\n",
            "3639/3639 [==============================] - 6s 2ms/step - loss: 0.7363 - accuracy: 0.6650\n",
            "Epoch 13/100\n",
            "3639/3639 [==============================] - 6s 2ms/step - loss: 0.7310 - accuracy: 0.6719\n",
            "Epoch 14/100\n",
            "3639/3639 [==============================] - 7s 2ms/step - loss: 0.7198 - accuracy: 0.6771\n",
            "Epoch 15/100\n",
            "3639/3639 [==============================] - 6s 2ms/step - loss: 0.7175 - accuracy: 0.6821\n",
            "Epoch 16/100\n",
            "3639/3639 [==============================] - 7s 2ms/step - loss: 0.7121 - accuracy: 0.6834\n",
            "Epoch 17/100\n",
            "3639/3639 [==============================] - 5s 2ms/step - loss: 0.7037 - accuracy: 0.6892\n",
            "Epoch 18/100\n",
            "3639/3639 [==============================] - 6s 2ms/step - loss: 0.6949 - accuracy: 0.6985\n",
            "Epoch 19/100\n",
            "3639/3639 [==============================] - 6s 2ms/step - loss: 0.6978 - accuracy: 0.6950\n",
            "Epoch 20/100\n",
            "3639/3639 [==============================] - 6s 2ms/step - loss: 0.6878 - accuracy: 0.7013\n",
            "Epoch 21/100\n",
            "3639/3639 [==============================] - 7s 2ms/step - loss: 0.6819 - accuracy: 0.7010\n",
            "Epoch 22/100\n",
            "3639/3639 [==============================] - 6s 2ms/step - loss: 0.6786 - accuracy: 0.6963\n",
            "Epoch 23/100\n",
            "3639/3639 [==============================] - 7s 2ms/step - loss: 0.6762 - accuracy: 0.6928\n",
            "Epoch 24/100\n",
            "3639/3639 [==============================] - 6s 2ms/step - loss: 0.6657 - accuracy: 0.7104\n",
            "Epoch 25/100\n",
            "3639/3639 [==============================] - 6s 2ms/step - loss: 0.6664 - accuracy: 0.7098\n",
            "Epoch 26/100\n",
            "3639/3639 [==============================] - 7s 2ms/step - loss: 0.6561 - accuracy: 0.7095\n",
            "Epoch 27/100\n",
            "3639/3639 [==============================] - 6s 2ms/step - loss: 0.6578 - accuracy: 0.7101\n",
            "Epoch 28/100\n",
            "3639/3639 [==============================] - 7s 2ms/step - loss: 0.6535 - accuracy: 0.7172\n",
            "Epoch 29/100\n",
            "3639/3639 [==============================] - 6s 2ms/step - loss: 0.6445 - accuracy: 0.7167\n",
            "Epoch 30/100\n",
            "3639/3639 [==============================] - 7s 2ms/step - loss: 0.6407 - accuracy: 0.7249\n",
            "Epoch 31/100\n",
            "3639/3639 [==============================] - 6s 2ms/step - loss: 0.6348 - accuracy: 0.7246\n",
            "Epoch 32/100\n",
            "3639/3639 [==============================] - 6s 2ms/step - loss: 0.6338 - accuracy: 0.7246\n",
            "Epoch 33/100\n",
            "3639/3639 [==============================] - 7s 2ms/step - loss: 0.6279 - accuracy: 0.7225\n",
            "Epoch 34/100\n",
            "3639/3639 [==============================] - 6s 2ms/step - loss: 0.6254 - accuracy: 0.7290\n",
            "Epoch 35/100\n",
            "3639/3639 [==============================] - 7s 2ms/step - loss: 0.6218 - accuracy: 0.7271\n",
            "Epoch 36/100\n",
            "3639/3639 [==============================] - 6s 2ms/step - loss: 0.6191 - accuracy: 0.7252\n",
            "Epoch 37/100\n",
            "3639/3639 [==============================] - 6s 2ms/step - loss: 0.6117 - accuracy: 0.7329\n",
            "Epoch 38/100\n",
            "3639/3639 [==============================] - 6s 2ms/step - loss: 0.6108 - accuracy: 0.7337\n",
            "Epoch 39/100\n",
            "3639/3639 [==============================] - 6s 2ms/step - loss: 0.6013 - accuracy: 0.7345\n",
            "Epoch 40/100\n",
            "3639/3639 [==============================] - 7s 2ms/step - loss: 0.6085 - accuracy: 0.7334\n",
            "Epoch 41/100\n",
            "3639/3639 [==============================] - 6s 2ms/step - loss: 0.5961 - accuracy: 0.7428\n",
            "Epoch 42/100\n",
            "3639/3639 [==============================] - 7s 2ms/step - loss: 0.5968 - accuracy: 0.7381\n",
            "Epoch 43/100\n",
            "3639/3639 [==============================] - 6s 2ms/step - loss: 0.5949 - accuracy: 0.7370\n",
            "Epoch 44/100\n",
            "3639/3639 [==============================] - 6s 2ms/step - loss: 0.5904 - accuracy: 0.7433\n",
            "Epoch 45/100\n",
            "3639/3639 [==============================] - 6s 2ms/step - loss: 0.5819 - accuracy: 0.7461\n",
            "Epoch 46/100\n",
            "3639/3639 [==============================] - 6s 2ms/step - loss: 0.5776 - accuracy: 0.7472\n",
            "Epoch 47/100\n",
            "3639/3639 [==============================] - 7s 2ms/step - loss: 0.5769 - accuracy: 0.7444\n",
            "Epoch 48/100\n",
            "3639/3639 [==============================] - 6s 2ms/step - loss: 0.5782 - accuracy: 0.7519\n",
            "Epoch 49/100\n",
            "3639/3639 [==============================] - 7s 2ms/step - loss: 0.5738 - accuracy: 0.7524\n",
            "Epoch 50/100\n",
            "3639/3639 [==============================] - 6s 2ms/step - loss: 0.5687 - accuracy: 0.7524\n",
            "Epoch 51/100\n",
            "3639/3639 [==============================] - 6s 2ms/step - loss: 0.5622 - accuracy: 0.7557\n",
            "Epoch 52/100\n",
            "3639/3639 [==============================] - 6s 2ms/step - loss: 0.5573 - accuracy: 0.7543\n",
            "Epoch 53/100\n",
            "3639/3639 [==============================] - 6s 2ms/step - loss: 0.5552 - accuracy: 0.7535\n",
            "Epoch 54/100\n",
            "3639/3639 [==============================] - 7s 2ms/step - loss: 0.5505 - accuracy: 0.7538\n",
            "Epoch 55/100\n",
            "3639/3639 [==============================] - 6s 2ms/step - loss: 0.5478 - accuracy: 0.7708\n",
            "Epoch 56/100\n",
            "3639/3639 [==============================] - 7s 2ms/step - loss: 0.5435 - accuracy: 0.7670\n",
            "Epoch 57/100\n",
            "3639/3639 [==============================] - 6s 2ms/step - loss: 0.5453 - accuracy: 0.7681\n",
            "Epoch 58/100\n",
            "3639/3639 [==============================] - 6s 2ms/step - loss: 0.5359 - accuracy: 0.7683\n",
            "Epoch 59/100\n",
            "3639/3639 [==============================] - 6s 2ms/step - loss: 0.5292 - accuracy: 0.7749\n",
            "Epoch 60/100\n",
            "3639/3639 [==============================] - 6s 2ms/step - loss: 0.5320 - accuracy: 0.7694\n",
            "Epoch 61/100\n",
            "3639/3639 [==============================] - 7s 2ms/step - loss: 0.5240 - accuracy: 0.7804\n",
            "Epoch 62/100\n",
            "3639/3639 [==============================] - 6s 2ms/step - loss: 0.5260 - accuracy: 0.7697\n",
            "Epoch 63/100\n",
            "3639/3639 [==============================] - 7s 2ms/step - loss: 0.5248 - accuracy: 0.7697\n",
            "Epoch 64/100\n",
            "3639/3639 [==============================] - 6s 2ms/step - loss: 0.5155 - accuracy: 0.7714\n",
            "Epoch 65/100\n",
            "3639/3639 [==============================] - 6s 2ms/step - loss: 0.5232 - accuracy: 0.7780\n",
            "Epoch 66/100\n",
            "3639/3639 [==============================] - 6s 2ms/step - loss: 0.5115 - accuracy: 0.7793\n",
            "29/29 [==============================] - 0s 1ms/step - loss: 1.2252 - accuracy: 0.6374\n",
            "\n",
            "loss: 1.225\n",
            "\n",
            "accuracy: 0.637\n"
          ]
        }
      ],
      "source": [
        "early_stopper = EarlyStopping(monitor=\"accuracy\", patience=5, restore_best_weights=False)\n",
        "cbs = [early_stopper]\n",
        "\n",
        "model.compile(loss = 'categorical_crossentropy', optimizer = 'adam', metrics = ['accuracy'])\n",
        "hist = model.fit(X_train_array, Y_train, epochs = 100, batch_size = 1, verbose=1, callbacks=cbs)\n",
        "\n",
        "scores = model.evaluate(X_test_array, Y_test)\n",
        "\n",
        "for i, m in enumerate(model.metrics_names):\n",
        "    print(\"\\n%s: %.3f\"% (m, scores[i]))"
      ]
    },
    {
      "cell_type": "code",
      "execution_count": 89,
      "metadata": {
        "id": "EtNgOQkDRFFG",
        "colab": {
          "base_uri": "https://localhost:8080/"
        },
        "outputId": "2519ba66-ea79-42f8-9e50-4d27c9fa313b"
      },
      "outputs": [
        {
          "output_type": "execute_result",
          "data": {
            "text/plain": [
              "array(0.63736266)"
            ]
          },
          "metadata": {},
          "execution_count": 89
        }
      ],
      "source": [
        "# pred_test_NN = np.array(scores.loc[:,2])\n",
        "# pred_test_NN\n",
        "scores = np.array(scores)\n",
        "pred_test_NN = np.array(scores[1])\n",
        "pred_test_NN"
      ]
    },
    {
      "cell_type": "code",
      "execution_count": 90,
      "metadata": {
        "id": "_Gn8pyZ1SgOK",
        "colab": {
          "base_uri": "https://localhost:8080/"
        },
        "outputId": "efd8b538-9084-44b3-a674-6ded82af75c6"
      },
      "outputs": [
        {
          "output_type": "stream",
          "name": "stdout",
          "text": [
            "Accuracy Score on Test Data : 64.0\n"
          ]
        }
      ],
      "source": [
        "print(f'Accuracy Score on Test Data : {np.round(pred_test_NN,2)*100}')"
      ]
    },
    {
      "cell_type": "markdown",
      "metadata": {
        "id": "FWHb-X7FE83h"
      },
      "source": [
        "## Plot Results"
      ]
    },
    {
      "cell_type": "code",
      "execution_count": 107,
      "metadata": {
        "id": "A5AiUXJLFFls",
        "colab": {
          "base_uri": "https://localhost:8080/",
          "height": 449
        },
        "outputId": "ef00befa-8716-45a9-ab1c-3e86d230acc1"
      },
      "outputs": [
        {
          "output_type": "execute_result",
          "data": {
            "text/plain": [
              "<Axes: >"
            ]
          },
          "metadata": {},
          "execution_count": 107
        },
        {
          "output_type": "display_data",
          "data": {
            "text/plain": [
              "<Figure size 1080x504 with 1 Axes>"
            ],
            "image/png": "[encoded data removed]"
          },
          "metadata": {}
        }
      ],
      "source": [
        "import matplotlib.pyplot as plt\n",
        "import seaborn as sns\n",
        "\n",
        "sns.set(rc={'figure.figsize':(15,7)})\n",
        "\n",
        "#acc_NB = round(accuracy_score(y_test, pred_test_NB),2)*100\n",
        "acc_RF = round(accuracy_score(y_test, pred_test_RF),2)*100\n",
        "acc_DT = round(accuracy_score(y_test, pred_test_DT),2)*100\n",
        "#acc_XGB = round(accuracy_score(y_test, pred_test_XGB),2)*100\n",
        "acc_KNN = round(accuracy_score(y_test, pred_test_KNN),2)*100\n",
        "#acc_Log = round(accuracy_score(y_test, pred_test_Log),2)*100\n",
        "#acc_SV = round(accuracy_score(y_test, pred_test_sv),2)*100\n",
        "acc_NN = np.round(pred_test_NN,2)*100\n",
        "\n",
        "\n",
        "models_scores = [#acc_NB, \n",
        "                 acc_RF, acc_DT, \n",
        "                 #acc_XGB, \n",
        "                 acc_KNN,\n",
        "                 #acc_Log, acc_SV, \n",
        "                 acc_NN\n",
        "                 ]\n",
        "models = [#'Naive Bayes', \n",
        "          'Random Forest', 'Decision Tree', \n",
        "          #'XGB', \n",
        "          'KNN',\n",
        "          #'Log Regr', 'SV', \n",
        "          'NN'\n",
        "          ]\n",
        "\n",
        "sns.barplot(x=models, y=models_scores)"
      ]
    },
    {
      "cell_type": "code",
      "execution_count": 92,
      "metadata": {
        "id": "W-UWxP1qFvE8",
        "colab": {
          "base_uri": "https://localhost:8080/"
        },
        "outputId": "d7510631-5ecc-47d3-963c-367298d6f02d"
      },
      "outputs": [
        {
          "output_type": "stream",
          "name": "stdout",
          "text": [
            "1/1 [==============================] - 0s 68ms/step\n",
            "[1]\n",
            "[3]\n",
            "[3]\n",
            "[[0. 1. 0. 0. 0.]]\n"
          ]
        }
      ],
      "source": [
        "present_weather = { 'max temp':23, \n",
        "                    'min temp': 18, \n",
        "                    'wind speed':5, \n",
        "                    'humidity':59, \n",
        "                    'cloud':62,\n",
        "                    'pressure':1020, \n",
        "                    'year':2023, \n",
        "                    'month':3, \n",
        "                    'day':1\n",
        "                    }\n",
        "present_df = pd.DataFrame(present_weather, index = ['2023-03-01'])\n",
        "# using inputs to predict the output\n",
        "prediction1 = clf.predict(present_df)\n",
        "prediction2 = classifier.predict(present_df)\n",
        "prediction3 = neigh.predict(present_df)\n",
        "prediction4 = model.predict(present_df)\n",
        "print(prediction1)\n",
        "print(prediction2)\n",
        "print(prediction3)\n",
        "print(prediction4)"
      ]
    }
  ],
  "metadata": {
    "colab": {
      "collapsed_sections": [
        "bcf6A1-b2P0T",
        "j0JPvwKZSvn2",
        "deK0r15ibbWB",
        "A11KhVP99-6E",
        "Cj2aLzsSk-ir",
        "zIB6ZBWBuMEB",
        "9Azszx9F4CK1",
        "rcrgEhK5aWyr"
      ],
      "toc_visible": true,
      "provenance": [],
      "include_colab_link": true
    },
    "kernelspec": {
      "display_name": "Python 3",
      "name": "python3"
    },
    "language_info": {
      "name": "python"
    }
  },
  "nbformat": 4,
  "nbformat_minor": 0
}