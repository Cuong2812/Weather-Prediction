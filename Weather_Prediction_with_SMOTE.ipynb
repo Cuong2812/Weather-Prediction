{
  "cells": [
    {
      "cell_type": "markdown",
      "metadata": {
        "id": "view-in-github",
        "colab_type": "text"
      },
      "source": [
        "<a href=\"https://colab.research.google.com/github/Cuong2812/Weather-Prediction/blob/main/Weather_Prediction_with_SMOTE.ipynb\" target=\"_parent\"><img src=\"https://colab.research.google.com/assets/colab-badge.svg\" alt=\"Open In Colab\"/></a>"
      ]
    },
    {
      "cell_type": "markdown",
      "metadata": {
        "id": "7JhXEZZ4S6f1"
      },
      "source": [
        "# Data Import"
      ]
    },
    {
      "cell_type": "code",
      "execution_count": 139,
      "metadata": {
        "id": "-tEZR0lWAMf5"
      },
      "outputs": [],
      "source": [
        "import pandas as pd\n",
        "import numpy as np\n",
        "import matplotlib.pyplot as plt"
      ]
    },
    {
      "cell_type": "code",
      "execution_count": 140,
      "metadata": {
        "colab": {
          "base_uri": "https://localhost:8080/"
        },
        "id": "NkZh7Ws4bjAq",
        "outputId": "7d4367a1-a531-4cad-e4ae-aa88f1c2ef0a"
      },
      "outputs": [
        {
          "output_type": "stream",
          "name": "stdout",
          "text": [
            "Drive already mounted at /content/drive; to attempt to forcibly remount, call drive.mount(\"/content/drive\", force_remount=True).\n"
          ]
        }
      ],
      "source": [
        "from google.colab import drive\n",
        "drive.mount('/content/drive')"
      ]
    },
    {
      "cell_type": "code",
      "execution_count": 141,
      "metadata": {
        "colab": {
          "base_uri": "https://localhost:8080/"
        },
        "id": "pOogHJqtAYCC",
        "outputId": "298c1d3f-24ce-471a-904a-ef8dfb9982ca"
      },
      "outputs": [
        {
          "output_type": "stream",
          "name": "stdout",
          "text": [
            "<class 'pandas.core.frame.DataFrame'>\n",
            "RangeIndex: 4549 entries, 0 to 4548\n",
            "Data columns (total 12 columns):\n",
            " #   Column         Non-Null Count  Dtype  \n",
            "---  ------         --------------  -----  \n",
            " 0   province       4549 non-null   object \n",
            " 1   max temp       4549 non-null   int64  \n",
            " 2   min temp       4549 non-null   int64  \n",
            " 3   wind speed     4549 non-null   int64  \n",
            " 4   weather        4549 non-null   object \n",
            " 5   weather label  4549 non-null   int64  \n",
            " 6   rain amount    4549 non-null   float64\n",
            " 7   humidity       4549 non-null   int64  \n",
            " 8   cloud          4549 non-null   int64  \n",
            " 9   pressure       4549 non-null   int64  \n",
            " 10  date           4549 non-null   object \n",
            " 11  timestamp      4549 non-null   int64  \n",
            "dtypes: float64(1), int64(8), object(3)\n",
            "memory usage: 426.6+ KB\n"
          ]
        }
      ],
      "source": [
        "weather = pd.read_csv('/content/drive/MyDrive/hanoi weather.csv')\n",
        "# weather = weather.iloc[:]\n",
        "weather.info()"
      ]
    },
    {
      "cell_type": "code",
      "execution_count": 142,
      "metadata": {
        "colab": {
          "base_uri": "https://localhost:8080/"
        },
        "id": "5NOOEyG9I8PX",
        "outputId": "b31dbbd1-d223-4981-970a-28a64f519ef7"
      },
      "outputs": [
        {
          "output_type": "execute_result",
          "data": {
            "text/plain": [
              "0"
            ]
          },
          "metadata": {},
          "execution_count": 142
        }
      ],
      "source": [
        "df = weather.drop(columns=['province', \n",
        "                           'timestamp', \n",
        "                           'rain amount',\n",
        "                           # 'weather label',\n",
        "                           # 'weather'\n",
        "                           ])\n",
        "df.duplicated().sum() #Check Duplicated Rows"
      ]
    },
    {
      "cell_type": "code",
      "execution_count": 143,
      "metadata": {
        "colab": {
          "base_uri": "https://localhost:8080/"
        },
        "id": "A_MbpjkTHcG1",
        "outputId": "f499b1c4-8394-4f3d-d4b2-2d9a4a6c186d"
      },
      "outputs": [
        {
          "output_type": "execute_result",
          "data": {
            "text/plain": [
              "array(['Sunny', 'Light Rain', 'Moderate Rain', 'Heavy Rain',\n",
              "       'Violent Rain'], dtype=object)"
            ]
          },
          "metadata": {},
          "execution_count": 143
        }
      ],
      "source": [
        "df['weather'].unique()"
      ]
    },
    {
      "cell_type": "code",
      "execution_count": 144,
      "metadata": {
        "colab": {
          "base_uri": "https://localhost:8080/"
        },
        "id": "8Bfqnv29H-eV",
        "outputId": "1b61d9aa-cd80-4e78-c861-9c3b1815f65c"
      },
      "outputs": [
        {
          "output_type": "execute_result",
          "data": {
            "text/plain": [
              "{3: 'Sunny',\n",
              " 1: 'Light Rain',\n",
              " 2: 'Moderate Rain',\n",
              " 0: 'Heavy Rain',\n",
              " 4: 'Violent Rain'}"
            ]
          },
          "metadata": {},
          "execution_count": 144
        }
      ],
      "source": [
        "from sklearn.preprocessing import LabelEncoder\n",
        "le = LabelEncoder()\n",
        "df['weather label'] = le.fit_transform(df['weather'])\n",
        "\n",
        "#Store labels and name for final use\n",
        "weather_dict = dict(zip(df['weather label'], df['weather']))\n",
        "weather_dict"
      ]
    },
    {
      "cell_type": "code",
      "execution_count": 145,
      "metadata": {
        "colab": {
          "base_uri": "https://localhost:8080/",
          "height": 423
        },
        "id": "CtkcwCzDII-D",
        "outputId": "ee8dc01b-f984-4537-b409-184131ca4b7b"
      },
      "outputs": [
        {
          "output_type": "execute_result",
          "data": {
            "text/plain": [
              "      max temp  min temp  wind speed     weather  weather label  humidity  \\\n",
              "0           19        12           6       Sunny              3        70   \n",
              "1           18        12           6  Light Rain              1        65   \n",
              "2           20        13           5  Light Rain              1        74   \n",
              "3           25        12           5       Sunny              3        81   \n",
              "4           23        14           5  Light Rain              1        90   \n",
              "...        ...       ...         ...         ...            ...       ...   \n",
              "4544        32        25          10  Light Rain              1        74   \n",
              "4545        34        26           6       Sunny              3        67   \n",
              "4546        37        29           7       Sunny              3        62   \n",
              "4547        38        29           9       Sunny              3        65   \n",
              "4548        38        30          10       Sunny              3        62   \n",
              "\n",
              "      cloud  pressure       date  year  month  day  \n",
              "0        44      1025 2009-01-01  2009      1    1  \n",
              "1        28      1025 2009-01-02  2009      1    2  \n",
              "2        40      1022 2009-01-03  2009      1    3  \n",
              "3        46      1018 2009-01-04  2009      1    4  \n",
              "4        75      1017 2009-01-05  2009      1    5  \n",
              "...     ...       ...        ...   ...    ...  ...  \n",
              "4544     60      1001 2021-06-14  2021      6   14  \n",
              "4545     36       999 2021-06-15  2021      6   15  \n",
              "4546     24      1000 2021-06-16  2021      6   16  \n",
              "4547     28      1002 2021-06-17  2021      6   17  \n",
              "4548     20      1002 2021-06-18  2021      6   18  \n",
              "\n",
              "[4549 rows x 12 columns]"
            ],
            "text/html": [
              "\n",
              "  <div id=\"df-a33abd11-63f1-4f91-98ce-4ad6db7f983d\">\n",
              "    <div class=\"colab-df-container\">\n",
              "      <div>\n",
              "<style scoped>\n",
              "    .dataframe tbody tr th:only-of-type {\n",
              "        vertical-align: middle;\n",
              "    }\n",
              "\n",
              "    .dataframe tbody tr th {\n",
              "        vertical-align: top;\n",
              "    }\n",
              "\n",
              "    .dataframe thead th {\n",
              "        text-align: right;\n",
              "    }\n",
              "</style>\n",
              "<table border=\"1\" class=\"dataframe\">\n",
              "  <thead>\n",
              "    <tr style=\"text-align: right;\">\n",
              "      <th></th>\n",
              "      <th>max temp</th>\n",
              "      <th>min temp</th>\n",
              "      <th>wind speed</th>\n",
              "      <th>weather</th>\n",
              "      <th>weather label</th>\n",
              "      <th>humidity</th>\n",
              "      <th>cloud</th>\n",
              "      <th>pressure</th>\n",
              "      <th>date</th>\n",
              "      <th>year</th>\n",
              "      <th>month</th>\n",
              "      <th>day</th>\n",
              "    </tr>\n",
              "  </thead>\n",
              "  <tbody>\n",
              "    <tr>\n",
              "      <th>0</th>\n",
              "      <td>19</td>\n",
              "      <td>12</td>\n",
              "      <td>6</td>\n",
              "      <td>Sunny</td>\n",
              "      <td>3</td>\n",
              "      <td>70</td>\n",
              "      <td>44</td>\n",
              "      <td>1025</td>\n",
              "      <td>2009-01-01</td>\n",
              "      <td>2009</td>\n",
              "      <td>1</td>\n",
              "      <td>1</td>\n",
              "    </tr>\n",
              "    <tr>\n",
              "      <th>1</th>\n",
              "      <td>18</td>\n",
              "      <td>12</td>\n",
              "      <td>6</td>\n",
              "      <td>Light Rain</td>\n",
              "      <td>1</td>\n",
              "      <td>65</td>\n",
              "      <td>28</td>\n",
              "      <td>1025</td>\n",
              "      <td>2009-01-02</td>\n",
              "      <td>2009</td>\n",
              "      <td>1</td>\n",
              "      <td>2</td>\n",
              "    </tr>\n",
              "    <tr>\n",
              "      <th>2</th>\n",
              "      <td>20</td>\n",
              "      <td>13</td>\n",
              "      <td>5</td>\n",
              "      <td>Light Rain</td>\n",
              "      <td>1</td>\n",
              "      <td>74</td>\n",
              "      <td>40</td>\n",
              "      <td>1022</td>\n",
              "      <td>2009-01-03</td>\n",
              "      <td>2009</td>\n",
              "      <td>1</td>\n",
              "      <td>3</td>\n",
              "    </tr>\n",
              "    <tr>\n",
              "      <th>3</th>\n",
              "      <td>25</td>\n",
              "      <td>12</td>\n",
              "      <td>5</td>\n",
              "      <td>Sunny</td>\n",
              "      <td>3</td>\n",
              "      <td>81</td>\n",
              "      <td>46</td>\n",
              "      <td>1018</td>\n",
              "      <td>2009-01-04</td>\n",
              "      <td>2009</td>\n",
              "      <td>1</td>\n",
              "      <td>4</td>\n",
              "    </tr>\n",
              "    <tr>\n",
              "      <th>4</th>\n",
              "      <td>23</td>\n",
              "      <td>14</td>\n",
              "      <td>5</td>\n",
              "      <td>Light Rain</td>\n",
              "      <td>1</td>\n",
              "      <td>90</td>\n",
              "      <td>75</td>\n",
              "      <td>1017</td>\n",
              "      <td>2009-01-05</td>\n",
              "      <td>2009</td>\n",
              "      <td>1</td>\n",
              "      <td>5</td>\n",
              "    </tr>\n",
              "    <tr>\n",
              "      <th>...</th>\n",
              "      <td>...</td>\n",
              "      <td>...</td>\n",
              "      <td>...</td>\n",
              "      <td>...</td>\n",
              "      <td>...</td>\n",
              "      <td>...</td>\n",
              "      <td>...</td>\n",
              "      <td>...</td>\n",
              "      <td>...</td>\n",
              "      <td>...</td>\n",
              "      <td>...</td>\n",
              "      <td>...</td>\n",
              "    </tr>\n",
              "    <tr>\n",
              "      <th>4544</th>\n",
              "      <td>32</td>\n",
              "      <td>25</td>\n",
              "      <td>10</td>\n",
              "      <td>Light Rain</td>\n",
              "      <td>1</td>\n",
              "      <td>74</td>\n",
              "      <td>60</td>\n",
              "      <td>1001</td>\n",
              "      <td>2021-06-14</td>\n",
              "      <td>2021</td>\n",
              "      <td>6</td>\n",
              "      <td>14</td>\n",
              "    </tr>\n",
              "    <tr>\n",
              "      <th>4545</th>\n",
              "      <td>34</td>\n",
              "      <td>26</td>\n",
              "      <td>6</td>\n",
              "      <td>Sunny</td>\n",
              "      <td>3</td>\n",
              "      <td>67</td>\n",
              "      <td>36</td>\n",
              "      <td>999</td>\n",
              "      <td>2021-06-15</td>\n",
              "      <td>2021</td>\n",
              "      <td>6</td>\n",
              "      <td>15</td>\n",
              "    </tr>\n",
              "    <tr>\n",
              "      <th>4546</th>\n",
              "      <td>37</td>\n",
              "      <td>29</td>\n",
              "      <td>7</td>\n",
              "      <td>Sunny</td>\n",
              "      <td>3</td>\n",
              "      <td>62</td>\n",
              "      <td>24</td>\n",
              "      <td>1000</td>\n",
              "      <td>2021-06-16</td>\n",
              "      <td>2021</td>\n",
              "      <td>6</td>\n",
              "      <td>16</td>\n",
              "    </tr>\n",
              "    <tr>\n",
              "      <th>4547</th>\n",
              "      <td>38</td>\n",
              "      <td>29</td>\n",
              "      <td>9</td>\n",
              "      <td>Sunny</td>\n",
              "      <td>3</td>\n",
              "      <td>65</td>\n",
              "      <td>28</td>\n",
              "      <td>1002</td>\n",
              "      <td>2021-06-17</td>\n",
              "      <td>2021</td>\n",
              "      <td>6</td>\n",
              "      <td>17</td>\n",
              "    </tr>\n",
              "    <tr>\n",
              "      <th>4548</th>\n",
              "      <td>38</td>\n",
              "      <td>30</td>\n",
              "      <td>10</td>\n",
              "      <td>Sunny</td>\n",
              "      <td>3</td>\n",
              "      <td>62</td>\n",
              "      <td>20</td>\n",
              "      <td>1002</td>\n",
              "      <td>2021-06-18</td>\n",
              "      <td>2021</td>\n",
              "      <td>6</td>\n",
              "      <td>18</td>\n",
              "    </tr>\n",
              "  </tbody>\n",
              "</table>\n",
              "<p>4549 rows × 12 columns</p>\n",
              "</div>\n",
              "      <button class=\"colab-df-convert\" onclick=\"convertToInteractive('df-a33abd11-63f1-4f91-98ce-4ad6db7f983d')\"\n",
              "              title=\"Convert this dataframe to an interactive table.\"\n",
              "              style=\"display:none;\">\n",
              "        \n",
              "  <svg xmlns=\"http://www.w3.org/2000/svg\" height=\"24px\"viewBox=\"0 0 24 24\"\n",
              "       width=\"24px\">\n",
              "    <path d=\"M0 0h24v24H0V0z\" fill=\"none\"/>\n",
              "    <path d=\"M18.56 5.44l.94 2.06.94-2.06 2.06-.94-2.06-.94-.94-2.06-.94 2.06-2.06.94zm-11 1L8.5 8.5l.94-2.06 2.06-.94-2.06-.94L8.5 2.5l-.94 2.06-2.06.94zm10 10l.94 2.06.94-2.06 2.06-.94-2.06-.94-.94-2.06-.94 2.06-2.06.94z\"/><path d=\"M17.41 7.96l-1.37-1.37c-.4-.4-.92-.59-1.43-.59-.52 0-1.04.2-1.43.59L10.3 9.45l-7.72 7.72c-.78.78-.78 2.05 0 2.83L4 21.41c.39.39.9.59 1.41.59.51 0 1.02-.2 1.41-.59l7.78-7.78 2.81-2.81c.8-.78.8-2.07 0-2.86zM5.41 20L4 18.59l7.72-7.72 1.47 1.35L5.41 20z\"/>\n",
              "  </svg>\n",
              "      </button>\n",
              "      \n",
              "  <style>\n",
              "    .colab-df-container {\n",
              "      display:flex;\n",
              "      flex-wrap:wrap;\n",
              "      gap: 12px;\n",
              "    }\n",
              "\n",
              "    .colab-df-convert {\n",
              "      background-color: #E8F0FE;\n",
              "      border: none;\n",
              "      border-radius: 50%;\n",
              "      cursor: pointer;\n",
              "      display: none;\n",
              "      fill: #1967D2;\n",
              "      height: 32px;\n",
              "      padding: 0 0 0 0;\n",
              "      width: 32px;\n",
              "    }\n",
              "\n",
              "    .colab-df-convert:hover {\n",
              "      background-color: #E2EBFA;\n",
              "      box-shadow: 0px 1px 2px rgba(60, 64, 67, 0.3), 0px 1px 3px 1px rgba(60, 64, 67, 0.15);\n",
              "      fill: #174EA6;\n",
              "    }\n",
              "\n",
              "    [theme=dark] .colab-df-convert {\n",
              "      background-color: #3B4455;\n",
              "      fill: #D2E3FC;\n",
              "    }\n",
              "\n",
              "    [theme=dark] .colab-df-convert:hover {\n",
              "      background-color: #434B5C;\n",
              "      box-shadow: 0px 1px 3px 1px rgba(0, 0, 0, 0.15);\n",
              "      filter: drop-shadow(0px 1px 2px rgba(0, 0, 0, 0.3));\n",
              "      fill: #FFFFFF;\n",
              "    }\n",
              "  </style>\n",
              "\n",
              "      <script>\n",
              "        const buttonEl =\n",
              "          document.querySelector('#df-a33abd11-63f1-4f91-98ce-4ad6db7f983d button.colab-df-convert');\n",
              "        buttonEl.style.display =\n",
              "          google.colab.kernel.accessAllowed ? 'block' : 'none';\n",
              "\n",
              "        async function convertToInteractive(key) {\n",
              "          const element = document.querySelector('#df-a33abd11-63f1-4f91-98ce-4ad6db7f983d');\n",
              "          const dataTable =\n",
              "            await google.colab.kernel.invokeFunction('convertToInteractive',\n",
              "                                                     [key], {});\n",
              "          if (!dataTable) return;\n",
              "\n",
              "          const docLinkHtml = 'Like what you see? Visit the ' +\n",
              "            '<a target=\"_blank\" href=https://colab.research.google.com/notebooks/data_table.ipynb>data table notebook</a>'\n",
              "            + ' to learn more about interactive tables.';\n",
              "          element.innerHTML = '';\n",
              "          dataTable['output_type'] = 'display_data';\n",
              "          await google.colab.output.renderOutput(dataTable, element);\n",
              "          const docLink = document.createElement('div');\n",
              "          docLink.innerHTML = docLinkHtml;\n",
              "          element.appendChild(docLink);\n",
              "        }\n",
              "      </script>\n",
              "    </div>\n",
              "  </div>\n",
              "  "
            ]
          },
          "metadata": {},
          "execution_count": 145
        }
      ],
      "source": [
        "#Preprocess Datetime Columns\n",
        "\n",
        "def date_time(df) :\n",
        "    \n",
        "    df['date'] = pd.to_datetime(df['date'])\n",
        "    df['year'] = df['date'].dt.year #Generate Year Column\n",
        "    df['month'] = df['date'].dt.month #Generate Month Column\n",
        "    df['day'] = df['date'].dt.day\n",
        "    \n",
        "    return df\n",
        "\n",
        "\n",
        "df_final = date_time(df)\n",
        "df_final"
      ]
    },
    {
      "cell_type": "markdown",
      "metadata": {
        "id": "rByxaKs4TDH8"
      },
      "source": [
        "# Display"
      ]
    },
    {
      "cell_type": "code",
      "execution_count": 146,
      "metadata": {
        "colab": {
          "base_uri": "https://localhost:8080/",
          "height": 455
        },
        "id": "2FbwMc7YIi6p",
        "outputId": "7ee49e39-055c-4a1e-d87b-538f69705176"
      },
      "outputs": [
        {
          "output_type": "execute_result",
          "data": {
            "text/plain": [
              "            max temp  min temp  wind speed  weather label  humidity  cloud  \\\n",
              "date                                                                         \n",
              "2009-01-01        19        12           6              3        70     44   \n",
              "2009-01-02        18        12           6              1        65     28   \n",
              "2009-01-03        20        13           5              1        74     40   \n",
              "2009-01-04        25        12           5              3        81     46   \n",
              "2009-01-05        23        14           5              1        90     75   \n",
              "...              ...       ...         ...            ...       ...    ...   \n",
              "2021-06-14        32        25          10              1        74     60   \n",
              "2021-06-15        34        26           6              3        67     36   \n",
              "2021-06-16        37        29           7              3        62     24   \n",
              "2021-06-17        38        29           9              3        65     28   \n",
              "2021-06-18        38        30          10              3        62     20   \n",
              "\n",
              "            pressure  year  month  day  \n",
              "date                                    \n",
              "2009-01-01      1025  2009      1    1  \n",
              "2009-01-02      1025  2009      1    2  \n",
              "2009-01-03      1022  2009      1    3  \n",
              "2009-01-04      1018  2009      1    4  \n",
              "2009-01-05      1017  2009      1    5  \n",
              "...              ...   ...    ...  ...  \n",
              "2021-06-14      1001  2021      6   14  \n",
              "2021-06-15       999  2021      6   15  \n",
              "2021-06-16      1000  2021      6   16  \n",
              "2021-06-17      1002  2021      6   17  \n",
              "2021-06-18      1002  2021      6   18  \n",
              "\n",
              "[4549 rows x 10 columns]"
            ],
            "text/html": [
              "\n",
              "  <div id=\"df-0f21c481-b3e0-4c0c-92bf-d8cc21fca9df\">\n",
              "    <div class=\"colab-df-container\">\n",
              "      <div>\n",
              "<style scoped>\n",
              "    .dataframe tbody tr th:only-of-type {\n",
              "        vertical-align: middle;\n",
              "    }\n",
              "\n",
              "    .dataframe tbody tr th {\n",
              "        vertical-align: top;\n",
              "    }\n",
              "\n",
              "    .dataframe thead th {\n",
              "        text-align: right;\n",
              "    }\n",
              "</style>\n",
              "<table border=\"1\" class=\"dataframe\">\n",
              "  <thead>\n",
              "    <tr style=\"text-align: right;\">\n",
              "      <th></th>\n",
              "      <th>max temp</th>\n",
              "      <th>min temp</th>\n",
              "      <th>wind speed</th>\n",
              "      <th>weather label</th>\n",
              "      <th>humidity</th>\n",
              "      <th>cloud</th>\n",
              "      <th>pressure</th>\n",
              "      <th>year</th>\n",
              "      <th>month</th>\n",
              "      <th>day</th>\n",
              "    </tr>\n",
              "    <tr>\n",
              "      <th>date</th>\n",
              "      <th></th>\n",
              "      <th></th>\n",
              "      <th></th>\n",
              "      <th></th>\n",
              "      <th></th>\n",
              "      <th></th>\n",
              "      <th></th>\n",
              "      <th></th>\n",
              "      <th></th>\n",
              "      <th></th>\n",
              "    </tr>\n",
              "  </thead>\n",
              "  <tbody>\n",
              "    <tr>\n",
              "      <th>2009-01-01</th>\n",
              "      <td>19</td>\n",
              "      <td>12</td>\n",
              "      <td>6</td>\n",
              "      <td>3</td>\n",
              "      <td>70</td>\n",
              "      <td>44</td>\n",
              "      <td>1025</td>\n",
              "      <td>2009</td>\n",
              "      <td>1</td>\n",
              "      <td>1</td>\n",
              "    </tr>\n",
              "    <tr>\n",
              "      <th>2009-01-02</th>\n",
              "      <td>18</td>\n",
              "      <td>12</td>\n",
              "      <td>6</td>\n",
              "      <td>1</td>\n",
              "      <td>65</td>\n",
              "      <td>28</td>\n",
              "      <td>1025</td>\n",
              "      <td>2009</td>\n",
              "      <td>1</td>\n",
              "      <td>2</td>\n",
              "    </tr>\n",
              "    <tr>\n",
              "      <th>2009-01-03</th>\n",
              "      <td>20</td>\n",
              "      <td>13</td>\n",
              "      <td>5</td>\n",
              "      <td>1</td>\n",
              "      <td>74</td>\n",
              "      <td>40</td>\n",
              "      <td>1022</td>\n",
              "      <td>2009</td>\n",
              "      <td>1</td>\n",
              "      <td>3</td>\n",
              "    </tr>\n",
              "    <tr>\n",
              "      <th>2009-01-04</th>\n",
              "      <td>25</td>\n",
              "      <td>12</td>\n",
              "      <td>5</td>\n",
              "      <td>3</td>\n",
              "      <td>81</td>\n",
              "      <td>46</td>\n",
              "      <td>1018</td>\n",
              "      <td>2009</td>\n",
              "      <td>1</td>\n",
              "      <td>4</td>\n",
              "    </tr>\n",
              "    <tr>\n",
              "      <th>2009-01-05</th>\n",
              "      <td>23</td>\n",
              "      <td>14</td>\n",
              "      <td>5</td>\n",
              "      <td>1</td>\n",
              "      <td>90</td>\n",
              "      <td>75</td>\n",
              "      <td>1017</td>\n",
              "      <td>2009</td>\n",
              "      <td>1</td>\n",
              "      <td>5</td>\n",
              "    </tr>\n",
              "    <tr>\n",
              "      <th>...</th>\n",
              "      <td>...</td>\n",
              "      <td>...</td>\n",
              "      <td>...</td>\n",
              "      <td>...</td>\n",
              "      <td>...</td>\n",
              "      <td>...</td>\n",
              "      <td>...</td>\n",
              "      <td>...</td>\n",
              "      <td>...</td>\n",
              "      <td>...</td>\n",
              "    </tr>\n",
              "    <tr>\n",
              "      <th>2021-06-14</th>\n",
              "      <td>32</td>\n",
              "      <td>25</td>\n",
              "      <td>10</td>\n",
              "      <td>1</td>\n",
              "      <td>74</td>\n",
              "      <td>60</td>\n",
              "      <td>1001</td>\n",
              "      <td>2021</td>\n",
              "      <td>6</td>\n",
              "      <td>14</td>\n",
              "    </tr>\n",
              "    <tr>\n",
              "      <th>2021-06-15</th>\n",
              "      <td>34</td>\n",
              "      <td>26</td>\n",
              "      <td>6</td>\n",
              "      <td>3</td>\n",
              "      <td>67</td>\n",
              "      <td>36</td>\n",
              "      <td>999</td>\n",
              "      <td>2021</td>\n",
              "      <td>6</td>\n",
              "      <td>15</td>\n",
              "    </tr>\n",
              "    <tr>\n",
              "      <th>2021-06-16</th>\n",
              "      <td>37</td>\n",
              "      <td>29</td>\n",
              "      <td>7</td>\n",
              "      <td>3</td>\n",
              "      <td>62</td>\n",
              "      <td>24</td>\n",
              "      <td>1000</td>\n",
              "      <td>2021</td>\n",
              "      <td>6</td>\n",
              "      <td>16</td>\n",
              "    </tr>\n",
              "    <tr>\n",
              "      <th>2021-06-17</th>\n",
              "      <td>38</td>\n",
              "      <td>29</td>\n",
              "      <td>9</td>\n",
              "      <td>3</td>\n",
              "      <td>65</td>\n",
              "      <td>28</td>\n",
              "      <td>1002</td>\n",
              "      <td>2021</td>\n",
              "      <td>6</td>\n",
              "      <td>17</td>\n",
              "    </tr>\n",
              "    <tr>\n",
              "      <th>2021-06-18</th>\n",
              "      <td>38</td>\n",
              "      <td>30</td>\n",
              "      <td>10</td>\n",
              "      <td>3</td>\n",
              "      <td>62</td>\n",
              "      <td>20</td>\n",
              "      <td>1002</td>\n",
              "      <td>2021</td>\n",
              "      <td>6</td>\n",
              "      <td>18</td>\n",
              "    </tr>\n",
              "  </tbody>\n",
              "</table>\n",
              "<p>4549 rows × 10 columns</p>\n",
              "</div>\n",
              "      <button class=\"colab-df-convert\" onclick=\"convertToInteractive('df-0f21c481-b3e0-4c0c-92bf-d8cc21fca9df')\"\n",
              "              title=\"Convert this dataframe to an interactive table.\"\n",
              "              style=\"display:none;\">\n",
              "        \n",
              "  <svg xmlns=\"http://www.w3.org/2000/svg\" height=\"24px\"viewBox=\"0 0 24 24\"\n",
              "       width=\"24px\">\n",
              "    <path d=\"M0 0h24v24H0V0z\" fill=\"none\"/>\n",
              "    <path d=\"M18.56 5.44l.94 2.06.94-2.06 2.06-.94-2.06-.94-.94-2.06-.94 2.06-2.06.94zm-11 1L8.5 8.5l.94-2.06 2.06-.94-2.06-.94L8.5 2.5l-.94 2.06-2.06.94zm10 10l.94 2.06.94-2.06 2.06-.94-2.06-.94-.94-2.06-.94 2.06-2.06.94z\"/><path d=\"M17.41 7.96l-1.37-1.37c-.4-.4-.92-.59-1.43-.59-.52 0-1.04.2-1.43.59L10.3 9.45l-7.72 7.72c-.78.78-.78 2.05 0 2.83L4 21.41c.39.39.9.59 1.41.59.51 0 1.02-.2 1.41-.59l7.78-7.78 2.81-2.81c.8-.78.8-2.07 0-2.86zM5.41 20L4 18.59l7.72-7.72 1.47 1.35L5.41 20z\"/>\n",
              "  </svg>\n",
              "      </button>\n",
              "      \n",
              "  <style>\n",
              "    .colab-df-container {\n",
              "      display:flex;\n",
              "      flex-wrap:wrap;\n",
              "      gap: 12px;\n",
              "    }\n",
              "\n",
              "    .colab-df-convert {\n",
              "      background-color: #E8F0FE;\n",
              "      border: none;\n",
              "      border-radius: 50%;\n",
              "      cursor: pointer;\n",
              "      display: none;\n",
              "      fill: #1967D2;\n",
              "      height: 32px;\n",
              "      padding: 0 0 0 0;\n",
              "      width: 32px;\n",
              "    }\n",
              "\n",
              "    .colab-df-convert:hover {\n",
              "      background-color: #E2EBFA;\n",
              "      box-shadow: 0px 1px 2px rgba(60, 64, 67, 0.3), 0px 1px 3px 1px rgba(60, 64, 67, 0.15);\n",
              "      fill: #174EA6;\n",
              "    }\n",
              "\n",
              "    [theme=dark] .colab-df-convert {\n",
              "      background-color: #3B4455;\n",
              "      fill: #D2E3FC;\n",
              "    }\n",
              "\n",
              "    [theme=dark] .colab-df-convert:hover {\n",
              "      background-color: #434B5C;\n",
              "      box-shadow: 0px 1px 3px 1px rgba(0, 0, 0, 0.15);\n",
              "      filter: drop-shadow(0px 1px 2px rgba(0, 0, 0, 0.3));\n",
              "      fill: #FFFFFF;\n",
              "    }\n",
              "  </style>\n",
              "\n",
              "      <script>\n",
              "        const buttonEl =\n",
              "          document.querySelector('#df-0f21c481-b3e0-4c0c-92bf-d8cc21fca9df button.colab-df-convert');\n",
              "        buttonEl.style.display =\n",
              "          google.colab.kernel.accessAllowed ? 'block' : 'none';\n",
              "\n",
              "        async function convertToInteractive(key) {\n",
              "          const element = document.querySelector('#df-0f21c481-b3e0-4c0c-92bf-d8cc21fca9df');\n",
              "          const dataTable =\n",
              "            await google.colab.kernel.invokeFunction('convertToInteractive',\n",
              "                                                     [key], {});\n",
              "          if (!dataTable) return;\n",
              "\n",
              "          const docLinkHtml = 'Like what you see? Visit the ' +\n",
              "            '<a target=\"_blank\" href=https://colab.research.google.com/notebooks/data_table.ipynb>data table notebook</a>'\n",
              "            + ' to learn more about interactive tables.';\n",
              "          element.innerHTML = '';\n",
              "          dataTable['output_type'] = 'display_data';\n",
              "          await google.colab.output.renderOutput(dataTable, element);\n",
              "          const docLink = document.createElement('div');\n",
              "          docLink.innerHTML = docLinkHtml;\n",
              "          element.appendChild(docLink);\n",
              "        }\n",
              "      </script>\n",
              "    </div>\n",
              "  </div>\n",
              "  "
            ]
          },
          "metadata": {},
          "execution_count": 146
        }
      ],
      "source": [
        "df_final = df_final.set_index('date').drop(['weather'],axis=1)\n",
        "df_final"
      ]
    },
    {
      "cell_type": "markdown",
      "metadata": {
        "id": "HXTD7yYPCO82"
      },
      "source": [
        "# Pre-process"
      ]
    },
    {
      "cell_type": "code",
      "execution_count": 147,
      "metadata": {
        "id": "VUJwjdCCT4fX"
      },
      "outputs": [],
      "source": [
        "# Preprocess Data for Machine Learning Development\n",
        "X = df_final.drop(['weather label'], axis = 1)\n",
        "y = df_final['weather label']"
      ]
    },
    {
      "cell_type": "code",
      "source": [
        "y.value_counts()"
      ],
      "metadata": {
        "colab": {
          "base_uri": "https://localhost:8080/"
        },
        "id": "C4B9IpBtYBSa",
        "outputId": "48768e13-4c4b-4bf0-efca-b85cceebfe6e"
      },
      "execution_count": 148,
      "outputs": [
        {
          "output_type": "execute_result",
          "data": {
            "text/plain": [
              "1    1876\n",
              "3    1151\n",
              "2     943\n",
              "0     563\n",
              "4      16\n",
              "Name: weather label, dtype: int64"
            ]
          },
          "metadata": {},
          "execution_count": 148
        }
      ]
    },
    {
      "cell_type": "code",
      "execution_count": 149,
      "metadata": {
        "id": "0R4fPwXBaPAD",
        "colab": {
          "base_uri": "https://localhost:8080/"
        },
        "outputId": "1575fd59-3c0b-4bb6-a25a-37ca79dcdfd3"
      },
      "outputs": [
        {
          "output_type": "stream",
          "name": "stdout",
          "text": [
            "Class distribution after oversampling: Counter({3: 1876, 1: 1876, 2: 1876, 0: 1876, 4: 1876})\n"
          ]
        }
      ],
      "source": [
        "from imblearn.over_sampling import SMOTE\n",
        "from imblearn.under_sampling import RandomUnderSampler\n",
        "# SMOTE\n",
        "# over_strategy = {0 : 900, 2 : 1500, 4 : 900}\n",
        "# under_strategy = {0 : 2000, 1 : 2000, 2 : 2000, 3 : 2000, 4 : 2000}\n",
        "\n",
        "# Instantiate the SMOTE oversampler\n",
        "oversampler = SMOTE(random_state=42, k_neighbors = 3)\n",
        "\n",
        "X,y = oversampler.fit_resample(X,y)\n",
        "# X,y = undersample.fit_resample(X, y)\n",
        "\n",
        "# Print the class distribution after oversampling\n",
        "print('Class distribution after oversampling:', Counter(y))"
      ]
    },
    {
      "cell_type": "code",
      "source": [
        "from collections import Counter\n",
        "# Print the class distribution before oversampling\n",
        "print('Class distribution before oversampling:', Counter(y))\n",
        "\n",
        "# Instantiate the SMOTE oversampler\n",
        "oversampler = SMOTE(random_state=42)\n",
        "\n",
        "# Fit and transform the data with SMOTE\n",
        "X_resampled, y_resampled = oversampler.fit_resample(X, y)\n",
        "\n",
        "# Print the class distribution after oversampling\n",
        "print('Class distribution after oversampling:', Counter(y_resampled))"
      ],
      "metadata": {
        "colab": {
          "base_uri": "https://localhost:8080/"
        },
        "id": "QqYBnCdcZXSz",
        "outputId": "8fe09661-eb64-49d4-ec25-9ae41589aa38"
      },
      "execution_count": 150,
      "outputs": [
        {
          "output_type": "stream",
          "name": "stdout",
          "text": [
            "Class distribution before oversampling: Counter({3: 1876, 1: 1876, 2: 1876, 0: 1876, 4: 1876})\n",
            "Class distribution after oversampling: Counter({3: 1876, 1: 1876, 2: 1876, 0: 1876, 4: 1876})\n"
          ]
        }
      ]
    },
    {
      "cell_type": "code",
      "execution_count": 151,
      "metadata": {
        "id": "ZNyq1VByaJuH"
      },
      "outputs": [],
      "source": [
        "from sklearn.model_selection import train_test_split\n",
        "X_train,X_test,y_train,y_test = train_test_split(X,y,random_state = 10, test_size = 0.2)"
      ]
    },
    {
      "cell_type": "code",
      "execution_count": 152,
      "metadata": {
        "id": "zXs1-PwtTVn6"
      },
      "outputs": [],
      "source": [
        "from sklearn.preprocessing import StandardScaler\n",
        "scaler = StandardScaler()\n",
        "X_scaled = scaler.fit_transform(X)\n",
        "X_train_scaled = scaler.fit_transform(X_train)\n",
        "X_test_scaled = scaler.transform(X_test)"
      ]
    },
    {
      "cell_type": "markdown",
      "metadata": {
        "id": "z3E09uXgt3fx"
      },
      "source": [
        "# **CLASSIFICATION**"
      ]
    },
    {
      "cell_type": "markdown",
      "metadata": {
        "id": "deK0r15ibbWB"
      },
      "source": [
        "## Decision Tree"
      ]
    },
    {
      "cell_type": "code",
      "execution_count": 185,
      "metadata": {
        "id": "-eV7tc1dcXjg"
      },
      "outputs": [],
      "source": [
        "from sklearn import tree\n",
        "from sklearn.tree import DecisionTreeClassifier\n",
        "clf = DecisionTreeClassifier(random_state=42, criterion= 'entropy')\n",
        "clf = clf.fit(X_train, y_train)"
      ]
    },
    {
      "cell_type": "code",
      "execution_count": 186,
      "metadata": {
        "colab": {
          "base_uri": "https://localhost:8080/"
        },
        "id": "yYUqAncsc9B9",
        "outputId": "d5307e64-ca5f-4255-b475-4ce6ca1d1746"
      },
      "outputs": [
        {
          "output_type": "stream",
          "name": "stdout",
          "text": [
            "Accuracy Score on Test Data : 74.0\n"
          ]
        }
      ],
      "source": [
        "from sklearn.metrics import accuracy_score, classification_report\n",
        "\n",
        "pred_test_DT = clf.predict(X_test)\n",
        "\n",
        "print(f'Accuracy Score on Test Data : {round(accuracy_score(y_test, pred_test_DT),2)*100}')"
      ]
    },
    {
      "cell_type": "code",
      "execution_count": 187,
      "metadata": {
        "id": "UqF4-Imh5oMU"
      },
      "outputs": [],
      "source": [
        "from sklearn.tree import DecisionTreeClassifier\n",
        "DT_clf = DecisionTreeClassifier(random_state=0)\n",
        "\n",
        "from sklearn.model_selection import cross_val_score\n",
        "DT_scores = cross_val_score(clf, X_train, y_train, cv=1000)"
      ]
    },
    {
      "cell_type": "code",
      "execution_count": 188,
      "metadata": {
        "colab": {
          "base_uri": "https://localhost:8080/"
        },
        "id": "GLj9N5FT6Bu_",
        "outputId": "181fd77c-43f1-42ea-c94c-0877dfa2bd19"
      },
      "outputs": [
        {
          "output_type": "execute_result",
          "data": {
            "text/plain": [
              "0.7582678571428572"
            ]
          },
          "metadata": {},
          "execution_count": 188
        }
      ],
      "source": [
        "DT_scores.mean()"
      ]
    },
    {
      "cell_type": "markdown",
      "metadata": {
        "id": "j0JPvwKZSvn2"
      },
      "source": [
        "## Random Forest"
      ]
    },
    {
      "cell_type": "code",
      "execution_count": 157,
      "metadata": {
        "id": "6dPWgKPyS0rd"
      },
      "outputs": [],
      "source": [
        "from sklearn.preprocessing import StandardScaler\n",
        "from sklearn.ensemble import RandomForestClassifier"
      ]
    },
    {
      "cell_type": "code",
      "execution_count": 182,
      "metadata": {
        "colab": {
          "base_uri": "https://localhost:8080/",
          "height": 74
        },
        "id": "9mJq5Nd8UQ50",
        "outputId": "32b92bf3-d133-4d78-c56d-239bc0396f46"
      },
      "outputs": [
        {
          "output_type": "execute_result",
          "data": {
            "text/plain": [
              "RandomForestClassifier(criterion='entropy', n_estimators=128, random_state=42)"
            ],
            "text/html": [
              "<style>#sk-container-id-8 {color: black;background-color: white;}#sk-container-id-8 pre{padding: 0;}#sk-container-id-8 div.sk-toggleable {background-color: white;}#sk-container-id-8 label.sk-toggleable__label {cursor: pointer;display: block;width: 100%;margin-bottom: 0;padding: 0.3em;box-sizing: border-box;text-align: center;}#sk-container-id-8 label.sk-toggleable__label-arrow:before {content: \"▸\";float: left;margin-right: 0.25em;color: #696969;}#sk-container-id-8 label.sk-toggleable__label-arrow:hover:before {color: black;}#sk-container-id-8 div.sk-estimator:hover label.sk-toggleable__label-arrow:before {color: black;}#sk-container-id-8 div.sk-toggleable__content {max-height: 0;max-width: 0;overflow: hidden;text-align: left;background-color: #f0f8ff;}#sk-container-id-8 div.sk-toggleable__content pre {margin: 0.2em;color: black;border-radius: 0.25em;background-color: #f0f8ff;}#sk-container-id-8 input.sk-toggleable__control:checked~div.sk-toggleable__content {max-height: 200px;max-width: 100%;overflow: auto;}#sk-container-id-8 input.sk-toggleable__control:checked~label.sk-toggleable__label-arrow:before {content: \"▾\";}#sk-container-id-8 div.sk-estimator input.sk-toggleable__control:checked~label.sk-toggleable__label {background-color: #d4ebff;}#sk-container-id-8 div.sk-label input.sk-toggleable__control:checked~label.sk-toggleable__label {background-color: #d4ebff;}#sk-container-id-8 input.sk-hidden--visually {border: 0;clip: rect(1px 1px 1px 1px);clip: rect(1px, 1px, 1px, 1px);height: 1px;margin: -1px;overflow: hidden;padding: 0;position: absolute;width: 1px;}#sk-container-id-8 div.sk-estimator {font-family: monospace;background-color: #f0f8ff;border: 1px dotted black;border-radius: 0.25em;box-sizing: border-box;margin-bottom: 0.5em;}#sk-container-id-8 div.sk-estimator:hover {background-color: #d4ebff;}#sk-container-id-8 div.sk-parallel-item::after {content: \"\";width: 100%;border-bottom: 1px solid gray;flex-grow: 1;}#sk-container-id-8 div.sk-label:hover label.sk-toggleable__label {background-color: #d4ebff;}#sk-container-id-8 div.sk-serial::before {content: \"\";position: absolute;border-left: 1px solid gray;box-sizing: border-box;top: 0;bottom: 0;left: 50%;z-index: 0;}#sk-container-id-8 div.sk-serial {display: flex;flex-direction: column;align-items: center;background-color: white;padding-right: 0.2em;padding-left: 0.2em;position: relative;}#sk-container-id-8 div.sk-item {position: relative;z-index: 1;}#sk-container-id-8 div.sk-parallel {display: flex;align-items: stretch;justify-content: center;background-color: white;position: relative;}#sk-container-id-8 div.sk-item::before, #sk-container-id-8 div.sk-parallel-item::before {content: \"\";position: absolute;border-left: 1px solid gray;box-sizing: border-box;top: 0;bottom: 0;left: 50%;z-index: -1;}#sk-container-id-8 div.sk-parallel-item {display: flex;flex-direction: column;z-index: 1;position: relative;background-color: white;}#sk-container-id-8 div.sk-parallel-item:first-child::after {align-self: flex-end;width: 50%;}#sk-container-id-8 div.sk-parallel-item:last-child::after {align-self: flex-start;width: 50%;}#sk-container-id-8 div.sk-parallel-item:only-child::after {width: 0;}#sk-container-id-8 div.sk-dashed-wrapped {border: 1px dashed gray;margin: 0 0.4em 0.5em 0.4em;box-sizing: border-box;padding-bottom: 0.4em;background-color: white;}#sk-container-id-8 div.sk-label label {font-family: monospace;font-weight: bold;display: inline-block;line-height: 1.2em;}#sk-container-id-8 div.sk-label-container {text-align: center;}#sk-container-id-8 div.sk-container {/* jupyter's `normalize.less` sets `[hidden] { display: none; }` but bootstrap.min.css set `[hidden] { display: none !important; }` so we also need the `!important` here to be able to override the default hidden behavior on the sphinx rendered scikit-learn.org. See: https://github.com/scikit-learn/scikit-learn/issues/21755 */display: inline-block !important;position: relative;}#sk-container-id-8 div.sk-text-repr-fallback {display: none;}</style><div id=\"sk-container-id-8\" class=\"sk-top-container\"><div class=\"sk-text-repr-fallback\"><pre>RandomForestClassifier(criterion=&#x27;entropy&#x27;, n_estimators=128, random_state=42)</pre><b>In a Jupyter environment, please rerun this cell to show the HTML representation or trust the notebook. <br />On GitHub, the HTML representation is unable to render, please try loading this page with nbviewer.org.</b></div><div class=\"sk-container\" hidden><div class=\"sk-item\"><div class=\"sk-estimator sk-toggleable\"><input class=\"sk-toggleable__control sk-hidden--visually\" id=\"sk-estimator-id-8\" type=\"checkbox\" checked><label for=\"sk-estimator-id-8\" class=\"sk-toggleable__label sk-toggleable__label-arrow\">RandomForestClassifier</label><div class=\"sk-toggleable__content\"><pre>RandomForestClassifier(criterion=&#x27;entropy&#x27;, n_estimators=128, random_state=42)</pre></div></div></div></div></div>"
            ]
          },
          "metadata": {},
          "execution_count": 182
        }
      ],
      "source": [
        "# ntree = sqrt (number of row * number of columns)/numberofcpu\n",
        "classifier = RandomForestClassifier(n_estimators = 128, criterion = 'entropy', random_state = 42)\n",
        "classifier.fit(X_train, y_train)"
      ]
    },
    {
      "cell_type": "code",
      "execution_count": 183,
      "metadata": {
        "colab": {
          "base_uri": "https://localhost:8080/"
        },
        "id": "Wr6DKwNNZSyI",
        "outputId": "8e246a3c-42f0-4243-f277-e5d2940eba77"
      },
      "outputs": [
        {
          "output_type": "stream",
          "name": "stdout",
          "text": [
            "Accuracy Score on Test Data : 84.0\n"
          ]
        }
      ],
      "source": [
        "from sklearn.metrics import accuracy_score, classification_report\n",
        "# pred_all_RF = classifier.predict(X)\n",
        "# pred_train_RF = classifier.predict(X_train_scaled)\n",
        "pred_test_RF = classifier.predict(X_test)\n",
        "\n",
        "# print(f'Accuracy Score on All Data : {round(accuracy_score(y, pred_all_RF),2)*100}')\n",
        "# print(f'Accuracy Score on Train Data : {round(accuracy_score(y_train, pred_train_RF),2)*100}')\n",
        "print(f'Accuracy Score on Test Data : {round(accuracy_score(y_test, pred_test_RF),2)*100}')"
      ]
    },
    {
      "cell_type": "code",
      "execution_count": 184,
      "metadata": {
        "colab": {
          "base_uri": "https://localhost:8080/",
          "height": 448
        },
        "id": "FkQMJ-igvRJO",
        "outputId": "89cdcc6a-f864-43d4-93c8-a63affb54020"
      },
      "outputs": [
        {
          "output_type": "display_data",
          "data": {
            "text/plain": [
              "<Figure size 1080x504 with 2 Axes>"
            ],
            "image/png": "[encoded data removed]"
          },
          "metadata": {}
        }
      ],
      "source": [
        "from sklearn.metrics import confusion_matrix, ConfusionMatrixDisplay\n",
        "\n",
        "cm1 = confusion_matrix(y_test, pred_test_RF)\n",
        "\n",
        "disp = ConfusionMatrixDisplay(confusion_matrix=cm1, display_labels=classifier.classes_)\n",
        "disp = disp.plot(include_values=True, cmap='viridis', ax=None, xticks_rotation='horizontal')\n",
        "plt.grid(False)\n",
        "plt.show()"
      ]
    },
    {
      "cell_type": "code",
      "execution_count": 161,
      "metadata": {
        "colab": {
          "base_uri": "https://localhost:8080/"
        },
        "id": "231gZfOt8fra",
        "outputId": "e3854f91-ef4c-455a-f7e2-5890e16cac15"
      },
      "outputs": [
        {
          "output_type": "stream",
          "name": "stdout",
          "text": [
            "Classification accuracy : 0.9723\n",
            "Classification error : 0.0277\n"
          ]
        }
      ],
      "source": [
        "TP = cm1[0,0]\n",
        "TN = cm1[1,1]\n",
        "FP = cm1[0,1]\n",
        "FN = cm1[1,0]\n",
        "\n",
        "classification_accuracy = (TP + TN) / float(TP + TN + FP + FN)\n",
        "classification_error = (FP + FN) / float(TP + TN + FP + FN)\n",
        "print('Classification accuracy : {0:0.4f}'.format(classification_accuracy))\n",
        "print('Classification error : {0:0.4f}'.format(classification_error))"
      ]
    },
    {
      "cell_type": "markdown",
      "metadata": {
        "id": "Cj2aLzsSk-ir"
      },
      "source": [
        "## KNN"
      ]
    },
    {
      "cell_type": "code",
      "execution_count": 189,
      "metadata": {
        "colab": {
          "base_uri": "https://localhost:8080/",
          "height": 74
        },
        "id": "mv_h3lQzlFVI",
        "outputId": "660be6f2-8537-4d2d-c909-63efe7e595d5"
      },
      "outputs": [
        {
          "output_type": "execute_result",
          "data": {
            "text/plain": [
              "KNeighborsClassifier(n_neighbors=3)"
            ],
            "text/html": [
              "<style>#sk-container-id-9 {color: black;background-color: white;}#sk-container-id-9 pre{padding: 0;}#sk-container-id-9 div.sk-toggleable {background-color: white;}#sk-container-id-9 label.sk-toggleable__label {cursor: pointer;display: block;width: 100%;margin-bottom: 0;padding: 0.3em;box-sizing: border-box;text-align: center;}#sk-container-id-9 label.sk-toggleable__label-arrow:before {content: \"▸\";float: left;margin-right: 0.25em;color: #696969;}#sk-container-id-9 label.sk-toggleable__label-arrow:hover:before {color: black;}#sk-container-id-9 div.sk-estimator:hover label.sk-toggleable__label-arrow:before {color: black;}#sk-container-id-9 div.sk-toggleable__content {max-height: 0;max-width: 0;overflow: hidden;text-align: left;background-color: #f0f8ff;}#sk-container-id-9 div.sk-toggleable__content pre {margin: 0.2em;color: black;border-radius: 0.25em;background-color: #f0f8ff;}#sk-container-id-9 input.sk-toggleable__control:checked~div.sk-toggleable__content {max-height: 200px;max-width: 100%;overflow: auto;}#sk-container-id-9 input.sk-toggleable__control:checked~label.sk-toggleable__label-arrow:before {content: \"▾\";}#sk-container-id-9 div.sk-estimator input.sk-toggleable__control:checked~label.sk-toggleable__label {background-color: #d4ebff;}#sk-container-id-9 div.sk-label input.sk-toggleable__control:checked~label.sk-toggleable__label {background-color: #d4ebff;}#sk-container-id-9 input.sk-hidden--visually {border: 0;clip: rect(1px 1px 1px 1px);clip: rect(1px, 1px, 1px, 1px);height: 1px;margin: -1px;overflow: hidden;padding: 0;position: absolute;width: 1px;}#sk-container-id-9 div.sk-estimator {font-family: monospace;background-color: #f0f8ff;border: 1px dotted black;border-radius: 0.25em;box-sizing: border-box;margin-bottom: 0.5em;}#sk-container-id-9 div.sk-estimator:hover {background-color: #d4ebff;}#sk-container-id-9 div.sk-parallel-item::after {content: \"\";width: 100%;border-bottom: 1px solid gray;flex-grow: 1;}#sk-container-id-9 div.sk-label:hover label.sk-toggleable__label {background-color: #d4ebff;}#sk-container-id-9 div.sk-serial::before {content: \"\";position: absolute;border-left: 1px solid gray;box-sizing: border-box;top: 0;bottom: 0;left: 50%;z-index: 0;}#sk-container-id-9 div.sk-serial {display: flex;flex-direction: column;align-items: center;background-color: white;padding-right: 0.2em;padding-left: 0.2em;position: relative;}#sk-container-id-9 div.sk-item {position: relative;z-index: 1;}#sk-container-id-9 div.sk-parallel {display: flex;align-items: stretch;justify-content: center;background-color: white;position: relative;}#sk-container-id-9 div.sk-item::before, #sk-container-id-9 div.sk-parallel-item::before {content: \"\";position: absolute;border-left: 1px solid gray;box-sizing: border-box;top: 0;bottom: 0;left: 50%;z-index: -1;}#sk-container-id-9 div.sk-parallel-item {display: flex;flex-direction: column;z-index: 1;position: relative;background-color: white;}#sk-container-id-9 div.sk-parallel-item:first-child::after {align-self: flex-end;width: 50%;}#sk-container-id-9 div.sk-parallel-item:last-child::after {align-self: flex-start;width: 50%;}#sk-container-id-9 div.sk-parallel-item:only-child::after {width: 0;}#sk-container-id-9 div.sk-dashed-wrapped {border: 1px dashed gray;margin: 0 0.4em 0.5em 0.4em;box-sizing: border-box;padding-bottom: 0.4em;background-color: white;}#sk-container-id-9 div.sk-label label {font-family: monospace;font-weight: bold;display: inline-block;line-height: 1.2em;}#sk-container-id-9 div.sk-label-container {text-align: center;}#sk-container-id-9 div.sk-container {/* jupyter's `normalize.less` sets `[hidden] { display: none; }` but bootstrap.min.css set `[hidden] { display: none !important; }` so we also need the `!important` here to be able to override the default hidden behavior on the sphinx rendered scikit-learn.org. See: https://github.com/scikit-learn/scikit-learn/issues/21755 */display: inline-block !important;position: relative;}#sk-container-id-9 div.sk-text-repr-fallback {display: none;}</style><div id=\"sk-container-id-9\" class=\"sk-top-container\"><div class=\"sk-text-repr-fallback\"><pre>KNeighborsClassifier(n_neighbors=3)</pre><b>In a Jupyter environment, please rerun this cell to show the HTML representation or trust the notebook. <br />On GitHub, the HTML representation is unable to render, please try loading this page with nbviewer.org.</b></div><div class=\"sk-container\" hidden><div class=\"sk-item\"><div class=\"sk-estimator sk-toggleable\"><input class=\"sk-toggleable__control sk-hidden--visually\" id=\"sk-estimator-id-9\" type=\"checkbox\" checked><label for=\"sk-estimator-id-9\" class=\"sk-toggleable__label sk-toggleable__label-arrow\">KNeighborsClassifier</label><div class=\"sk-toggleable__content\"><pre>KNeighborsClassifier(n_neighbors=3)</pre></div></div></div></div></div>"
            ]
          },
          "metadata": {},
          "execution_count": 189
        }
      ],
      "source": [
        "from sklearn.neighbors import KNeighborsClassifier\n",
        "neigh = KNeighborsClassifier(n_neighbors=3)\n",
        "neigh.fit(X_train, y_train)"
      ]
    },
    {
      "cell_type": "code",
      "execution_count": 190,
      "metadata": {
        "colab": {
          "base_uri": "https://localhost:8080/"
        },
        "id": "wqY4YKNPlR0I",
        "outputId": "d2becc2b-5a81-4181-ecd8-bf66d3976c81"
      },
      "outputs": [
        {
          "output_type": "stream",
          "name": "stdout",
          "text": [
            "Accuracy Score on Test Data : 82.0\n"
          ]
        }
      ],
      "source": [
        "# pred_all_KNN = neigh.predict(X)\n",
        "# pred_train_KNN = neigh.predict(X_train)\n",
        "pred_test_KNN = neigh.predict(X_test)\n",
        "\n",
        "# print(f'Accuracy Score on All Data : {round(accuracy_score(y, pred_all_KNN),2)*100}')\n",
        "# print(f'Accuracy Score on Train Data : {round(accuracy_score(y_train, pred_train_KNN),2)*100}')\n",
        "print(f'Accuracy Score on Test Data : {round(accuracy_score(y_test, pred_test_KNN),2)*100}')"
      ]
    },
    {
      "cell_type": "code",
      "execution_count": 191,
      "metadata": {
        "colab": {
          "base_uri": "https://localhost:8080/",
          "height": 448
        },
        "id": "TSUDllS_n9nx",
        "outputId": "65ae4438-6043-49c9-d38d-d28b4454a619"
      },
      "outputs": [
        {
          "output_type": "display_data",
          "data": {
            "text/plain": [
              "<Figure size 1080x504 with 2 Axes>"
            ],
            "image/png": "[encoded data removed]"
          },
          "metadata": {}
        }
      ],
      "source": [
        "from sklearn.metrics import confusion_matrix, ConfusionMatrixDisplay\n",
        "\n",
        "cm2 = confusion_matrix(y_test, pred_test_KNN)\n",
        "\n",
        "disp = ConfusionMatrixDisplay(confusion_matrix=cm2, display_labels=neigh.classes_)\n",
        "disp = disp.plot(include_values=True, cmap='viridis', ax=None, xticks_rotation='horizontal')\n",
        "plt.grid(False)\n",
        "plt.show()"
      ]
    },
    {
      "cell_type": "code",
      "execution_count": 192,
      "metadata": {
        "colab": {
          "base_uri": "https://localhost:8080/"
        },
        "id": "X12GG8L1onaE",
        "outputId": "63608fa9-7deb-43ab-a154-92b3ad5fcc07"
      },
      "outputs": [
        {
          "output_type": "stream",
          "name": "stdout",
          "text": [
            "              precision    recall  f1-score   support\n",
            "\n",
            "           0       0.80      0.94      0.87       421\n",
            "           1       0.72      0.50      0.59       380\n",
            "           2       0.72      0.77      0.75       349\n",
            "           3       0.83      0.87      0.85       380\n",
            "           4       0.98      1.00      0.99       346\n",
            "\n",
            "    accuracy                           0.82      1876\n",
            "   macro avg       0.81      0.82      0.81      1876\n",
            "weighted avg       0.81      0.82      0.81      1876\n",
            "\n"
          ]
        }
      ],
      "source": [
        "print(classification_report(y_test,pred_test_KNN))"
      ]
    },
    {
      "cell_type": "code",
      "execution_count": 193,
      "metadata": {
        "colab": {
          "base_uri": "https://localhost:8080/"
        },
        "id": "Ng6BbzvOos1g",
        "outputId": "7acb27c5-2d3b-4e74-fc03-db615fb412fc"
      },
      "outputs": [
        {
          "output_type": "stream",
          "name": "stdout",
          "text": [
            "Classification accuracy : 0.9111\n",
            "Classification error : 0.0889\n"
          ]
        }
      ],
      "source": [
        "TP = cm2[0,0]\n",
        "TN = cm2[1,1]\n",
        "FP = cm2[0,1]\n",
        "FN = cm2[1,0]\n",
        "\n",
        "classification_accuracy = (TP + TN) / float(TP + TN + FP + FN)\n",
        "classification_error = (FP + FN) / float(TP + TN + FP + FN)\n",
        "print('Classification accuracy : {0:0.4f}'.format(classification_accuracy))\n",
        "print('Classification error : {0:0.4f}'.format(classification_error))"
      ]
    },
    {
      "cell_type": "markdown",
      "metadata": {
        "id": "ynTGlQ6Q5QdZ"
      },
      "source": [
        "## Neural Network"
      ]
    },
    {
      "cell_type": "code",
      "execution_count": 167,
      "metadata": {
        "id": "iGmK35tp5PwU"
      },
      "outputs": [],
      "source": [
        "import keras\n",
        "from keras.utils.np_utils import to_categorical\n",
        "from keras.models import Sequential\n",
        "from keras.layers import Dense, Dropout\n",
        "from keras.callbacks import ModelCheckpoint, EarlyStopping\n",
        "from keras.optimizers import Adam"
      ]
    },
    {
      "cell_type": "code",
      "execution_count": 168,
      "metadata": {
        "id": "bDAoTQ_y5u7t"
      },
      "outputs": [],
      "source": [
        "X_train_array = np.array(X_train_scaled)\n",
        "X_test_array = np.array(X_test_scaled)\n",
        "y_train_array = np.array(y_train)\n",
        "y_test_array = np.array(y_test)"
      ]
    },
    {
      "cell_type": "code",
      "execution_count": 169,
      "metadata": {
        "id": "SK3ezX0X8emN"
      },
      "outputs": [],
      "source": [
        "Y_train = to_categorical(y_train_array)\n",
        "Y_test = to_categorical(y_test_array)"
      ]
    },
    {
      "cell_type": "markdown",
      "metadata": {
        "id": "rcrgEhK5aWyr"
      },
      "source": [
        "### [Determining Hidden Layers and Hidden Neurons ](https://www.ncbi.nlm.nih.gov/pmc/articles/PMC8459779/#:~:text=The%20neuron%20number%20%3D%20N%20%E2%88%92%201,N%20%3D%20the%20input%20feature%20number%20.&text=The%20neuron%20number%20of%20the,the%20number%20of%20input%20feature%20.)"
      ]
    },
    {
      "cell_type": "markdown",
      "metadata": {
        "id": "GhqxYOX0lS_L"
      },
      "source": [
        "[idfk](https://www.kaggle.com/questions-and-answers/142430)"
      ]
    },
    {
      "cell_type": "code",
      "execution_count": 170,
      "metadata": {
        "colab": {
          "base_uri": "https://localhost:8080/"
        },
        "id": "W2tYCLLebBe2",
        "outputId": "5c9c0e61-f5d8-476d-c509-7d85e9595ef3"
      },
      "outputs": [
        {
          "output_type": "stream",
          "name": "stdout",
          "text": [
            "[2.57951501 2.21651074 1.33178298 1.02324114 0.94281668 0.51263454]\n",
            "[0.28658222 0.24625272 0.14796011 0.11368134 0.10474624 0.05695332]\n"
          ]
        }
      ],
      "source": [
        "from sklearn.decomposition import PCA\n",
        "#idfk\n",
        "pca = PCA(n_components=6)\n",
        "pc_X = pca.fit_transform(X_scaled)\n",
        "pc_X = ['pc1','pc2','pc3','pc4','pc5','pc6']\n",
        "print(pca.explained_variance_)\n",
        "print(pca.explained_variance_ratio_)"
      ]
    },
    {
      "cell_type": "code",
      "execution_count": 171,
      "metadata": {
        "colab": {
          "base_uri": "https://localhost:8080/"
        },
        "id": "h3L_ckvUZS-V",
        "outputId": "cbdbd70a-535e-4ccb-8305-c540edfb0e99"
      },
      "outputs": [
        {
          "output_type": "stream",
          "name": "stdout",
          "text": [
            "[84419.99999999974, 66531.44740738053, 54631.74159846304, 48814.18554138405, 44309.65188931035, 41560.025493358415, 39168.34838274852, 36994.75725196922, 35207.934203852885, 33551.71377963804, 32262.156378194777, 30978.582340614583, 29794.79793837963, 28927.922317109016, 28163.816092078305, 27425.899746273833, 26704.478118015297, 26048.286205658947, 25531.639956551342, 24881.8165106182]\n"
          ]
        }
      ],
      "source": [
        "from sklearn.cluster import KMeans\n",
        "#try to find optimal k using the elbow method\n",
        "wcss = []\n",
        "for i in range(1,21):\n",
        "    kmeans = KMeans(n_clusters=i,init='k-means++',max_iter=300, n_init=12, random_state=0)\n",
        "    kmeans.fit(X_scaled)\n",
        "    wcss.append(kmeans.inertia_)\n",
        "print(wcss)"
      ]
    },
    {
      "cell_type": "code",
      "execution_count": 172,
      "metadata": {
        "colab": {
          "base_uri": "https://localhost:8080/",
          "height": 410
        },
        "id": "sdVYv2y-q9PO",
        "outputId": "f5666558-2e19-42e5-bdf2-5651b872a991"
      },
      "outputs": [
        {
          "output_type": "display_data",
          "data": {
            "text/plain": [
              "<Figure size 576x432 with 1 Axes>"
            ],
            "image/png": "[encoded data removed]"
          },
          "metadata": {
            "needs_background": "light"
          }
        }
      ],
      "source": [
        "import matplotlib.pyplot as plt\n",
        "%matplotlib inline\n",
        "f3, ax = plt.subplots(figsize=(8, 6))\n",
        "plt.plot(range(1,21),wcss)\n",
        "plt.title('The Elbow Method')\n",
        "plt.xlabel('Number of clusters')\n",
        "plt.ylabel('WCSS')\n",
        "plt.show()"
      ]
    },
    {
      "cell_type": "markdown",
      "metadata": {
        "id": "H7iPg18fbaQ6"
      },
      "source": [
        "### Train"
      ]
    },
    {
      "cell_type": "code",
      "execution_count": 173,
      "metadata": {
        "id": "se6d2bXK53P9"
      },
      "outputs": [],
      "source": [
        "from keras.initializers import glorot_uniform\n",
        "from sklearn.utils import class_weight\n",
        "from keras import optimizers\n",
        "\"\"\"\n",
        "model = Sequential()\n",
        "model.add(Dense(9, input_dim = dim, activation = 'relu'))\n",
        "model.add(Dense(10, activation = 'relu'))\n",
        "model.add(Dense(10, activation = 'relu'))\n",
        "model.add(Dense(10, activation = 'relu'))\n",
        "model.add(Dense(5, activation = 'softmax'))\n",
        "\"\"\"\n",
        "\n",
        "\"\"\"\n",
        "model = Sequential()\n",
        "model.add(Dense(16, input_shape=(dim,)))\n",
        "model.add(Activation('sigmoid'))\n",
        "model.add(Dense(5))\n",
        "model.add(Activation('softmax'))\n",
        "\"\"\"\n",
        "\"\"\"\n",
        "initializer = keras.initializers.GlorotUniform()\n",
        "\n",
        "model = Sequential()\n",
        "model.add(Dense(9, input_dim = dim, kernel_initializer=initializer))\n",
        "model.add(Dense(11, activation = \"relu\"))\n",
        "model.add(Dense(11, activation = \"relu\"))\n",
        "model.add(Dense(11, activation = \"relu\"))\n",
        "model.add(Dense(11, activation = \"relu\"))\n",
        "model.add(Dense(5, activation = \"softmax\"))\n",
        "model.compile(Adam(lr = 0.01), \"categorical_crossentropy\", metrics = [\"accuracy\"])\n",
        "model.summary()\n",
        "\"\"\"\n",
        "\n",
        "# Define the number of classes\n",
        "num_classes = 5\n",
        "\n",
        "# Define the input dimension\n",
        "dim = len(X.columns)\n",
        "\n",
        "# Create a sequential model\n",
        "model = Sequential()\n",
        "\n",
        "# Add the input layer\n",
        "model.add(Dense(32, input_dim=dim, activation='relu'))\n",
        "\n",
        "# Add a hidden layer\n",
        "model.add(Dense(64, activation='relu'))\n",
        "\n",
        "# Add the output layer\n",
        "model.add(Dense(num_classes, activation='softmax'))\n",
        "\n",
        "# Compile the model with categorical cross-entropy loss and Adam optimizer\n",
        "model.compile(loss='categorical_crossentropy', optimizer='adam', metrics=['accuracy'])"
      ]
    },
    {
      "cell_type": "code",
      "execution_count": 174,
      "metadata": {
        "colab": {
          "base_uri": "https://localhost:8080/"
        },
        "id": "dKtE6qqctLCN",
        "outputId": "919af3bd-0b61-4b61-d4d8-1221e84a50d6"
      },
      "outputs": [
        {
          "output_type": "stream",
          "name": "stdout",
          "text": [
            "Epoch 1/100\n",
            "7504/7504 [==============================] - 20s 2ms/step - loss: 0.7916 - accuracy: 0.6530\n",
            "Epoch 2/100\n",
            "7504/7504 [==============================] - 21s 3ms/step - loss: 0.6720 - accuracy: 0.7032\n",
            "Epoch 3/100\n",
            "7504/7504 [==============================] - 19s 3ms/step - loss: 0.6483 - accuracy: 0.7104\n",
            "Epoch 4/100\n",
            "7504/7504 [==============================] - 18s 2ms/step - loss: 0.6314 - accuracy: 0.7228\n",
            "Epoch 5/100\n",
            "7504/7504 [==============================] - 20s 3ms/step - loss: 0.6178 - accuracy: 0.7263\n",
            "Epoch 6/100\n",
            "7504/7504 [==============================] - 18s 2ms/step - loss: 0.6105 - accuracy: 0.7316\n",
            "Epoch 7/100\n",
            "7504/7504 [==============================] - 18s 2ms/step - loss: 0.5991 - accuracy: 0.7368\n",
            "Epoch 8/100\n",
            "7504/7504 [==============================] - 19s 3ms/step - loss: 0.5930 - accuracy: 0.7392\n",
            "Epoch 9/100\n",
            "7504/7504 [==============================] - 17s 2ms/step - loss: 0.5794 - accuracy: 0.7448\n",
            "Epoch 10/100\n",
            "7504/7504 [==============================] - 18s 2ms/step - loss: 0.5751 - accuracy: 0.7479\n",
            "Epoch 11/100\n",
            "7504/7504 [==============================] - 16s 2ms/step - loss: 0.5625 - accuracy: 0.7540\n",
            "Epoch 12/100\n",
            "7504/7504 [==============================] - 18s 2ms/step - loss: 0.5590 - accuracy: 0.7597\n",
            "Epoch 13/100\n",
            "7504/7504 [==============================] - 19s 3ms/step - loss: 0.5478 - accuracy: 0.7640\n",
            "Epoch 14/100\n",
            "7504/7504 [==============================] - 17s 2ms/step - loss: 0.5425 - accuracy: 0.7657\n",
            "Epoch 15/100\n",
            "7504/7504 [==============================] - 19s 2ms/step - loss: 0.5361 - accuracy: 0.7672\n",
            "Epoch 16/100\n",
            "7504/7504 [==============================] - 17s 2ms/step - loss: 0.5320 - accuracy: 0.7753\n",
            "Epoch 17/100\n",
            "7504/7504 [==============================] - 20s 3ms/step - loss: 0.5247 - accuracy: 0.7741\n",
            "Epoch 18/100\n",
            "7504/7504 [==============================] - 18s 2ms/step - loss: 0.5158 - accuracy: 0.7818\n",
            "Epoch 19/100\n",
            "7504/7504 [==============================] - 17s 2ms/step - loss: 0.5133 - accuracy: 0.7858\n",
            "Epoch 20/100\n",
            "7504/7504 [==============================] - 19s 2ms/step - loss: 0.5086 - accuracy: 0.7829\n",
            "Epoch 21/100\n",
            "7504/7504 [==============================] - 18s 2ms/step - loss: 0.5005 - accuracy: 0.7845\n",
            "Epoch 22/100\n",
            "7504/7504 [==============================] - 18s 2ms/step - loss: 0.4954 - accuracy: 0.7913\n",
            "Epoch 23/100\n",
            "7504/7504 [==============================] - 18s 2ms/step - loss: 0.4930 - accuracy: 0.7890\n",
            "Epoch 24/100\n",
            "7504/7504 [==============================] - 17s 2ms/step - loss: 0.4905 - accuracy: 0.7913\n",
            "Epoch 25/100\n",
            "7504/7504 [==============================] - 20s 3ms/step - loss: 0.4811 - accuracy: 0.7964\n",
            "Epoch 26/100\n",
            "7504/7504 [==============================] - 17s 2ms/step - loss: 0.4782 - accuracy: 0.7994\n",
            "Epoch 27/100\n",
            "7504/7504 [==============================] - 18s 2ms/step - loss: 0.4753 - accuracy: 0.8005\n",
            "Epoch 28/100\n",
            "7504/7504 [==============================] - 17s 2ms/step - loss: 0.4720 - accuracy: 0.8010\n",
            "Epoch 29/100\n",
            "7504/7504 [==============================] - 17s 2ms/step - loss: 0.4721 - accuracy: 0.8040\n",
            "Epoch 30/100\n",
            "7504/7504 [==============================] - 17s 2ms/step - loss: 0.4635 - accuracy: 0.8122\n",
            "Epoch 31/100\n",
            "7504/7504 [==============================] - 16s 2ms/step - loss: 0.4557 - accuracy: 0.8094\n",
            "Epoch 32/100\n",
            "7504/7504 [==============================] - 18s 2ms/step - loss: 0.4544 - accuracy: 0.8036\n",
            "Epoch 33/100\n",
            "7504/7504 [==============================] - 17s 2ms/step - loss: 0.4530 - accuracy: 0.8093\n",
            "Epoch 34/100\n",
            "7504/7504 [==============================] - 20s 3ms/step - loss: 0.4449 - accuracy: 0.8092\n",
            "Epoch 35/100\n",
            "7504/7504 [==============================] - 19s 3ms/step - loss: 0.4469 - accuracy: 0.8125\n",
            "Epoch 36/100\n",
            "7504/7504 [==============================] - 20s 3ms/step - loss: 0.4423 - accuracy: 0.8177\n",
            "Epoch 37/100\n",
            "7504/7504 [==============================] - 21s 3ms/step - loss: 0.4380 - accuracy: 0.8133\n",
            "Epoch 38/100\n",
            "7504/7504 [==============================] - 19s 3ms/step - loss: 0.4367 - accuracy: 0.8140\n",
            "Epoch 39/100\n",
            "7504/7504 [==============================] - 20s 3ms/step - loss: 0.4328 - accuracy: 0.8197\n",
            "Epoch 40/100\n",
            "7504/7504 [==============================] - 20s 3ms/step - loss: 0.4305 - accuracy: 0.8174\n",
            "Epoch 41/100\n",
            "7504/7504 [==============================] - 19s 3ms/step - loss: 0.4251 - accuracy: 0.8226\n",
            "Epoch 42/100\n",
            "7504/7504 [==============================] - 20s 3ms/step - loss: 0.4219 - accuracy: 0.8236\n",
            "Epoch 43/100\n",
            "7504/7504 [==============================] - 20s 3ms/step - loss: 0.4164 - accuracy: 0.8293\n",
            "Epoch 44/100\n",
            "7504/7504 [==============================] - 22s 3ms/step - loss: 0.4195 - accuracy: 0.8261\n",
            "Epoch 45/100\n",
            "7504/7504 [==============================] - 20s 3ms/step - loss: 0.4144 - accuracy: 0.8269\n",
            "Epoch 46/100\n",
            "7504/7504 [==============================] - 19s 3ms/step - loss: 0.4117 - accuracy: 0.8306\n",
            "Epoch 47/100\n",
            "7504/7504 [==============================] - 21s 3ms/step - loss: 0.4081 - accuracy: 0.8309\n",
            "Epoch 48/100\n",
            "7504/7504 [==============================] - 19s 3ms/step - loss: 0.4026 - accuracy: 0.8285\n",
            "Epoch 49/100\n",
            "7504/7504 [==============================] - 21s 3ms/step - loss: 0.4063 - accuracy: 0.8333\n",
            "Epoch 50/100\n",
            "7504/7504 [==============================] - 21s 3ms/step - loss: 0.4039 - accuracy: 0.8282\n",
            "Epoch 51/100\n",
            "7504/7504 [==============================] - 21s 3ms/step - loss: 0.4036 - accuracy: 0.8280\n",
            "Epoch 52/100\n",
            "7504/7504 [==============================] - 21s 3ms/step - loss: 0.3998 - accuracy: 0.8350\n",
            "Epoch 53/100\n",
            "7504/7504 [==============================] - 21s 3ms/step - loss: 0.3996 - accuracy: 0.8378\n",
            "Epoch 54/100\n",
            "7504/7504 [==============================] - 21s 3ms/step - loss: 0.3899 - accuracy: 0.8357\n",
            "Epoch 55/100\n",
            "7504/7504 [==============================] - 19s 3ms/step - loss: 0.3960 - accuracy: 0.8356\n",
            "Epoch 56/100\n",
            "7504/7504 [==============================] - 22s 3ms/step - loss: 0.3897 - accuracy: 0.8386\n",
            "Epoch 57/100\n",
            "7504/7504 [==============================] - 19s 2ms/step - loss: 0.3836 - accuracy: 0.8429\n",
            "Epoch 58/100\n",
            "7504/7504 [==============================] - 18s 2ms/step - loss: 0.3917 - accuracy: 0.8396\n",
            "Epoch 59/100\n",
            "7504/7504 [==============================] - 22s 3ms/step - loss: 0.3801 - accuracy: 0.8412\n",
            "Epoch 60/100\n",
            "7504/7504 [==============================] - 20s 3ms/step - loss: 0.3836 - accuracy: 0.8405\n",
            "Epoch 61/100\n",
            "7504/7504 [==============================] - 20s 3ms/step - loss: 0.3803 - accuracy: 0.8397\n",
            "Epoch 62/100\n",
            "7504/7504 [==============================] - 21s 3ms/step - loss: 0.3763 - accuracy: 0.8446\n",
            "Epoch 63/100\n",
            "7504/7504 [==============================] - 19s 3ms/step - loss: 0.3763 - accuracy: 0.8433\n",
            "Epoch 64/100\n",
            "7504/7504 [==============================] - 21s 3ms/step - loss: 0.3814 - accuracy: 0.8451\n",
            "Epoch 65/100\n",
            "7504/7504 [==============================] - 20s 3ms/step - loss: 0.3744 - accuracy: 0.8473\n",
            "Epoch 66/100\n",
            "7504/7504 [==============================] - 21s 3ms/step - loss: 0.3703 - accuracy: 0.8502\n",
            "Epoch 67/100\n",
            "7504/7504 [==============================] - 18s 2ms/step - loss: 0.3687 - accuracy: 0.8513\n",
            "Epoch 68/100\n",
            "7504/7504 [==============================] - 18s 2ms/step - loss: 0.3665 - accuracy: 0.8493\n",
            "Epoch 69/100\n",
            "7504/7504 [==============================] - 17s 2ms/step - loss: 0.3628 - accuracy: 0.8517\n",
            "Epoch 70/100\n",
            "7504/7504 [==============================] - 18s 2ms/step - loss: 0.3647 - accuracy: 0.8470\n",
            "Epoch 71/100\n",
            "7504/7504 [==============================] - 18s 2ms/step - loss: 0.3616 - accuracy: 0.8491\n",
            "Epoch 72/100\n",
            "7504/7504 [==============================] - 17s 2ms/step - loss: 0.3573 - accuracy: 0.8489\n",
            "Epoch 73/100\n",
            "7504/7504 [==============================] - 19s 3ms/step - loss: 0.3634 - accuracy: 0.8454\n",
            "Epoch 74/100\n",
            "7504/7504 [==============================] - 18s 2ms/step - loss: 0.3610 - accuracy: 0.8526\n",
            "Epoch 75/100\n",
            "7504/7504 [==============================] - 17s 2ms/step - loss: 0.3572 - accuracy: 0.8527\n",
            "Epoch 76/100\n",
            "7504/7504 [==============================] - 17s 2ms/step - loss: 0.3494 - accuracy: 0.8575\n",
            "Epoch 77/100\n",
            "7504/7504 [==============================] - 16s 2ms/step - loss: 0.3514 - accuracy: 0.8549\n",
            "Epoch 78/100\n",
            "7504/7504 [==============================] - 17s 2ms/step - loss: 0.3538 - accuracy: 0.8573\n",
            "Epoch 79/100\n",
            "7504/7504 [==============================] - 16s 2ms/step - loss: 0.3556 - accuracy: 0.8566\n",
            "Epoch 80/100\n",
            "7504/7504 [==============================] - 19s 3ms/step - loss: 0.3473 - accuracy: 0.8586\n",
            "Epoch 81/100\n",
            "7504/7504 [==============================] - 16s 2ms/step - loss: 0.3455 - accuracy: 0.8567\n",
            "Epoch 82/100\n",
            "7504/7504 [==============================] - 17s 2ms/step - loss: 0.3464 - accuracy: 0.8573\n",
            "Epoch 83/100\n",
            "7504/7504 [==============================] - 16s 2ms/step - loss: 0.3463 - accuracy: 0.8585\n",
            "Epoch 84/100\n",
            "7504/7504 [==============================] - 17s 2ms/step - loss: 0.3451 - accuracy: 0.8601\n",
            "Epoch 85/100\n",
            "7504/7504 [==============================] - 18s 2ms/step - loss: 0.3478 - accuracy: 0.8602\n",
            "Epoch 86/100\n",
            "7504/7504 [==============================] - 16s 2ms/step - loss: 0.3413 - accuracy: 0.8623\n",
            "Epoch 87/100\n",
            "7504/7504 [==============================] - 17s 2ms/step - loss: 0.3374 - accuracy: 0.8627\n",
            "Epoch 88/100\n",
            "7504/7504 [==============================] - 15s 2ms/step - loss: 0.3342 - accuracy: 0.8623\n",
            "Epoch 89/100\n",
            "7504/7504 [==============================] - 17s 2ms/step - loss: 0.3373 - accuracy: 0.8694\n",
            "Epoch 90/100\n",
            "7504/7504 [==============================] - 16s 2ms/step - loss: 0.3396 - accuracy: 0.8643\n",
            "Epoch 91/100\n",
            "7504/7504 [==============================] - 17s 2ms/step - loss: 0.3380 - accuracy: 0.8654\n",
            "Epoch 92/100\n",
            "7504/7504 [==============================] - 17s 2ms/step - loss: 0.3341 - accuracy: 0.8670\n",
            "Epoch 93/100\n",
            "7504/7504 [==============================] - 18s 2ms/step - loss: 0.3365 - accuracy: 0.8623\n",
            "Epoch 94/100\n",
            "7504/7504 [==============================] - 17s 2ms/step - loss: 0.3305 - accuracy: 0.8694\n",
            "59/59 [==============================] - 0s 2ms/step - loss: 0.9531 - accuracy: 0.7516\n",
            "\n",
            "loss: 0.953\n",
            "\n",
            "accuracy: 0.752\n"
          ]
        }
      ],
      "source": [
        "early_stopper = EarlyStopping(monitor=\"accuracy\", patience=5, restore_best_weights=False)\n",
        "cbs = [early_stopper]\n",
        "\n",
        "model.compile(loss = 'categorical_crossentropy', optimizer = 'adam', metrics = ['accuracy'])\n",
        "hist = model.fit(X_train_array, Y_train, epochs = 100, batch_size = 1, verbose=1, callbacks=cbs)\n",
        "\n",
        "scores = model.evaluate(X_test_array, Y_test)\n",
        "\n",
        "for i, m in enumerate(model.metrics_names):\n",
        "    print(\"\\n%s: %.3f\"% (m, scores[i]))"
      ]
    },
    {
      "cell_type": "code",
      "execution_count": 175,
      "metadata": {
        "colab": {
          "base_uri": "https://localhost:8080/"
        },
        "id": "EtNgOQkDRFFG",
        "outputId": "fc366806-00fb-4c2f-e035-d48cea55ebe4"
      },
      "outputs": [
        {
          "output_type": "execute_result",
          "data": {
            "text/plain": [
              "array(0.75159913)"
            ]
          },
          "metadata": {},
          "execution_count": 175
        }
      ],
      "source": [
        "# pred_test_NN = np.array(scores.loc[:,2])\n",
        "# pred_test_NN\n",
        "scores = np.array(scores)\n",
        "pred_test_NN = np.array(scores[1])\n",
        "pred_test_NN"
      ]
    },
    {
      "cell_type": "code",
      "execution_count": 176,
      "metadata": {
        "colab": {
          "base_uri": "https://localhost:8080/"
        },
        "id": "_Gn8pyZ1SgOK",
        "outputId": "afcdddca-ded1-4218-8437-2c5c682a052d"
      },
      "outputs": [
        {
          "output_type": "stream",
          "name": "stdout",
          "text": [
            "Accuracy Score on Test Data : 75.0\n"
          ]
        }
      ],
      "source": [
        "print(f'Accuracy Score on Test Data : {np.round(pred_test_NN,2)*100}')"
      ]
    },
    {
      "cell_type": "markdown",
      "metadata": {
        "id": "FWHb-X7FE83h"
      },
      "source": [
        "## Plot Results"
      ]
    },
    {
      "cell_type": "code",
      "execution_count": 194,
      "metadata": {
        "colab": {
          "base_uri": "https://localhost:8080/",
          "height": 449
        },
        "id": "A5AiUXJLFFls",
        "outputId": "2e63be36-2cfe-400f-aaf6-1de150ddeead"
      },
      "outputs": [
        {
          "output_type": "execute_result",
          "data": {
            "text/plain": [
              "<Axes: >"
            ]
          },
          "metadata": {},
          "execution_count": 194
        },
        {
          "output_type": "display_data",
          "data": {
            "text/plain": [
              "<Figure size 1080x504 with 1 Axes>"
            ],
            "image/png": "[encoded data removed]"
          },
          "metadata": {}
        }
      ],
      "source": [
        "import matplotlib.pyplot as plt\n",
        "import seaborn as sns\n",
        "\n",
        "sns.set(rc={'figure.figsize':(15,7)})\n",
        "\n",
        "#acc_NB = round(accuracy_score(y_test, pred_test_NB),2)*100\n",
        "acc_RF = round(accuracy_score(y_test, pred_test_RF),2)*100\n",
        "acc_DT = round(accuracy_score(y_test, pred_test_DT),2)*100\n",
        "#acc_XGB = round(accuracy_score(y_test, pred_test_XGB),2)*100\n",
        "acc_KNN = round(accuracy_score(y_test, pred_test_KNN),2)*100\n",
        "#acc_Log = round(accuracy_score(y_test, pred_test_Log),2)*100\n",
        "#acc_SV = round(accuracy_score(y_test, pred_test_sv),2)*100\n",
        "acc_NN = np.round(pred_test_NN,2)*100\n",
        "\n",
        "\n",
        "models_scores = [#acc_NB, \n",
        "                 acc_RF, acc_DT, \n",
        "                 #acc_XGB, \n",
        "                 acc_KNN,\n",
        "                 #acc_Log, acc_SV, \n",
        "                 acc_NN\n",
        "                 ]\n",
        "models = [#'Naive Bayes', \n",
        "          'Random Forest', 'Decision Tree', \n",
        "          #'XGB', \n",
        "          'KNN',\n",
        "          #'Log Regr', 'SV', \n",
        "          'NN'\n",
        "          ]\n",
        "\n",
        "sns.barplot(x=models, y=models_scores)"
      ]
    },
    {
      "cell_type": "code",
      "execution_count": 178,
      "metadata": {
        "colab": {
          "base_uri": "https://localhost:8080/"
        },
        "id": "W-UWxP1qFvE8",
        "outputId": "87bf5078-0df8-4b57-e70c-c88235220873"
      },
      "outputs": [
        {
          "output_type": "stream",
          "name": "stdout",
          "text": [
            "1/1 [==============================] - 0s 82ms/step\n",
            "[3]\n",
            "[3]\n",
            "[3]\n",
            "[[0. 1. 0. 0. 0.]]\n"
          ]
        }
      ],
      "source": [
        "present_weather = { 'max temp':23, \n",
        "                    'min temp': 18, \n",
        "                    'wind speed':5, \n",
        "                    'humidity':59, \n",
        "                    'cloud':62,\n",
        "                    'pressure':1020, \n",
        "                    'year':2023, \n",
        "                    'month':3, \n",
        "                    'day':1\n",
        "                    }\n",
        "present_df = pd.DataFrame(present_weather, index = ['2023-03-01'])\n",
        "# using inputs to predict the output\n",
        "prediction1 = clf.predict(present_df)\n",
        "prediction2 = classifier.predict(present_df)\n",
        "prediction3 = neigh.predict(present_df)\n",
        "prediction4 = model.predict(present_df)\n",
        "print(prediction1)\n",
        "print(prediction2)\n",
        "print(prediction3)\n",
        "print(prediction4)"
      ]
    },
    {
      "cell_type": "code",
      "source": [
        "present_df "
      ],
      "metadata": {
        "colab": {
          "base_uri": "https://localhost:8080/",
          "height": 81
        },
        "id": "edcLd8QG2Kqt",
        "outputId": "4321c627-0545-4a4c-cd5f-4da7738334fe"
      },
      "execution_count": 179,
      "outputs": [
        {
          "output_type": "execute_result",
          "data": {
            "text/plain": [
              "            max temp  min temp  wind speed  humidity  cloud  pressure  year  \\\n",
              "2023-03-01        23        18           5        59     62      1020  2023   \n",
              "\n",
              "            month  day  \n",
              "2023-03-01      3    1  "
            ],
            "text/html": [
              "\n",
              "  <div id=\"df-e20b92d9-8d1c-4a1d-a330-99d71ae21868\">\n",
              "    <div class=\"colab-df-container\">\n",
              "      <div>\n",
              "<style scoped>\n",
              "    .dataframe tbody tr th:only-of-type {\n",
              "        vertical-align: middle;\n",
              "    }\n",
              "\n",
              "    .dataframe tbody tr th {\n",
              "        vertical-align: top;\n",
              "    }\n",
              "\n",
              "    .dataframe thead th {\n",
              "        text-align: right;\n",
              "    }\n",
              "</style>\n",
              "<table border=\"1\" class=\"dataframe\">\n",
              "  <thead>\n",
              "    <tr style=\"text-align: right;\">\n",
              "      <th></th>\n",
              "      <th>max temp</th>\n",
              "      <th>min temp</th>\n",
              "      <th>wind speed</th>\n",
              "      <th>humidity</th>\n",
              "      <th>cloud</th>\n",
              "      <th>pressure</th>\n",
              "      <th>year</th>\n",
              "      <th>month</th>\n",
              "      <th>day</th>\n",
              "    </tr>\n",
              "  </thead>\n",
              "  <tbody>\n",
              "    <tr>\n",
              "      <th>2023-03-01</th>\n",
              "      <td>23</td>\n",
              "      <td>18</td>\n",
              "      <td>5</td>\n",
              "      <td>59</td>\n",
              "      <td>62</td>\n",
              "      <td>1020</td>\n",
              "      <td>2023</td>\n",
              "      <td>3</td>\n",
              "      <td>1</td>\n",
              "    </tr>\n",
              "  </tbody>\n",
              "</table>\n",
              "</div>\n",
              "      <button class=\"colab-df-convert\" onclick=\"convertToInteractive('df-e20b92d9-8d1c-4a1d-a330-99d71ae21868')\"\n",
              "              title=\"Convert this dataframe to an interactive table.\"\n",
              "              style=\"display:none;\">\n",
              "        \n",
              "  <svg xmlns=\"http://www.w3.org/2000/svg\" height=\"24px\"viewBox=\"0 0 24 24\"\n",
              "       width=\"24px\">\n",
              "    <path d=\"M0 0h24v24H0V0z\" fill=\"none\"/>\n",
              "    <path d=\"M18.56 5.44l.94 2.06.94-2.06 2.06-.94-2.06-.94-.94-2.06-.94 2.06-2.06.94zm-11 1L8.5 8.5l.94-2.06 2.06-.94-2.06-.94L8.5 2.5l-.94 2.06-2.06.94zm10 10l.94 2.06.94-2.06 2.06-.94-2.06-.94-.94-2.06-.94 2.06-2.06.94z\"/><path d=\"M17.41 7.96l-1.37-1.37c-.4-.4-.92-.59-1.43-.59-.52 0-1.04.2-1.43.59L10.3 9.45l-7.72 7.72c-.78.78-.78 2.05 0 2.83L4 21.41c.39.39.9.59 1.41.59.51 0 1.02-.2 1.41-.59l7.78-7.78 2.81-2.81c.8-.78.8-2.07 0-2.86zM5.41 20L4 18.59l7.72-7.72 1.47 1.35L5.41 20z\"/>\n",
              "  </svg>\n",
              "      </button>\n",
              "      \n",
              "  <style>\n",
              "    .colab-df-container {\n",
              "      display:flex;\n",
              "      flex-wrap:wrap;\n",
              "      gap: 12px;\n",
              "    }\n",
              "\n",
              "    .colab-df-convert {\n",
              "      background-color: #E8F0FE;\n",
              "      border: none;\n",
              "      border-radius: 50%;\n",
              "      cursor: pointer;\n",
              "      display: none;\n",
              "      fill: #1967D2;\n",
              "      height: 32px;\n",
              "      padding: 0 0 0 0;\n",
              "      width: 32px;\n",
              "    }\n",
              "\n",
              "    .colab-df-convert:hover {\n",
              "      background-color: #E2EBFA;\n",
              "      box-shadow: 0px 1px 2px rgba(60, 64, 67, 0.3), 0px 1px 3px 1px rgba(60, 64, 67, 0.15);\n",
              "      fill: #174EA6;\n",
              "    }\n",
              "\n",
              "    [theme=dark] .colab-df-convert {\n",
              "      background-color: #3B4455;\n",
              "      fill: #D2E3FC;\n",
              "    }\n",
              "\n",
              "    [theme=dark] .colab-df-convert:hover {\n",
              "      background-color: #434B5C;\n",
              "      box-shadow: 0px 1px 3px 1px rgba(0, 0, 0, 0.15);\n",
              "      filter: drop-shadow(0px 1px 2px rgba(0, 0, 0, 0.3));\n",
              "      fill: #FFFFFF;\n",
              "    }\n",
              "  </style>\n",
              "\n",
              "      <script>\n",
              "        const buttonEl =\n",
              "          document.querySelector('#df-e20b92d9-8d1c-4a1d-a330-99d71ae21868 button.colab-df-convert');\n",
              "        buttonEl.style.display =\n",
              "          google.colab.kernel.accessAllowed ? 'block' : 'none';\n",
              "\n",
              "        async function convertToInteractive(key) {\n",
              "          const element = document.querySelector('#df-e20b92d9-8d1c-4a1d-a330-99d71ae21868');\n",
              "          const dataTable =\n",
              "            await google.colab.kernel.invokeFunction('convertToInteractive',\n",
              "                                                     [key], {});\n",
              "          if (!dataTable) return;\n",
              "\n",
              "          const docLinkHtml = 'Like what you see? Visit the ' +\n",
              "            '<a target=\"_blank\" href=https://colab.research.google.com/notebooks/data_table.ipynb>data table notebook</a>'\n",
              "            + ' to learn more about interactive tables.';\n",
              "          element.innerHTML = '';\n",
              "          dataTable['output_type'] = 'display_data';\n",
              "          await google.colab.output.renderOutput(dataTable, element);\n",
              "          const docLink = document.createElement('div');\n",
              "          docLink.innerHTML = docLinkHtml;\n",
              "          element.appendChild(docLink);\n",
              "        }\n",
              "      </script>\n",
              "    </div>\n",
              "  </div>\n",
              "  "
            ]
          },
          "metadata": {},
          "execution_count": 179
        }
      ]
    },
    {
      "cell_type": "code",
      "source": [
        "print(f'Accuracy Score on Test Data : {np.round(pred_test_NN,2)*100}')"
      ],
      "metadata": {
        "colab": {
          "base_uri": "https://localhost:8080/"
        },
        "id": "qxV1P7X42rmg",
        "outputId": "74171929-cdd6-47b6-cf5b-dd4cce3c8234"
      },
      "execution_count": 180,
      "outputs": [
        {
          "output_type": "stream",
          "name": "stdout",
          "text": [
            "Accuracy Score on Test Data : 75.0\n"
          ]
        }
      ]
    },
    {
      "cell_type": "code",
      "execution_count": 181,
      "metadata": {
        "colab": {
          "base_uri": "https://localhost:8080/",
          "height": 607
        },
        "id": "3YUbv6k7ZfIS",
        "outputId": "699db4c5-eabc-47a0-96fa-99beb074dfe6"
      },
      "outputs": [
        {
          "output_type": "error",
          "ename": "NameError",
          "evalue": "ignored",
          "traceback": [
            "\u001b[0;31m---------------------------------------------------------------------------\u001b[0m",
            "\u001b[0;31mNameError\u001b[0m                                 Traceback (most recent call last)",
            "\u001b[0;32m<ipython-input-181-1b1dcb4c82d2>\u001b[0m in \u001b[0;36m<module>\u001b[0;34m\u001b[0m\n\u001b[1;32m      2\u001b[0m \u001b[0mfig\u001b[0m\u001b[0;34m,\u001b[0m \u001b[0max\u001b[0m \u001b[0;34m=\u001b[0m \u001b[0mplt\u001b[0m\u001b[0;34m.\u001b[0m\u001b[0msubplots\u001b[0m\u001b[0;34m(\u001b[0m\u001b[0mfigsize\u001b[0m\u001b[0;34m=\u001b[0m\u001b[0;34m(\u001b[0m\u001b[0;36m15\u001b[0m\u001b[0;34m,\u001b[0m \u001b[0;36m6\u001b[0m\u001b[0;34m)\u001b[0m\u001b[0;34m)\u001b[0m\u001b[0;34m\u001b[0m\u001b[0;34m\u001b[0m\u001b[0m\n\u001b[1;32m      3\u001b[0m \u001b[0;34m\u001b[0m\u001b[0m\n\u001b[0;32m----> 4\u001b[0;31m \u001b[0mplt\u001b[0m\u001b[0;34m.\u001b[0m\u001b[0mplot\u001b[0m\u001b[0;34m(\u001b[0m\u001b[0mtrain\u001b[0m\u001b[0;34m.\u001b[0m\u001b[0mindex\u001b[0m\u001b[0;34m,\u001b[0m \u001b[0mtrain\u001b[0m\u001b[0;34m[\u001b[0m\u001b[0;34m'rain amount'\u001b[0m\u001b[0;34m]\u001b[0m\u001b[0;34m,\u001b[0m \u001b[0mlabel\u001b[0m\u001b[0;34m=\u001b[0m\u001b[0;34m\"train\"\u001b[0m\u001b[0;34m)\u001b[0m\u001b[0;34m\u001b[0m\u001b[0;34m\u001b[0m\u001b[0m\n\u001b[0m\u001b[1;32m      5\u001b[0m \u001b[0mplt\u001b[0m\u001b[0;34m.\u001b[0m\u001b[0mplot\u001b[0m\u001b[0;34m(\u001b[0m\u001b[0mtest\u001b[0m\u001b[0;34m.\u001b[0m\u001b[0mindex\u001b[0m\u001b[0;34m,\u001b[0m \u001b[0mtest\u001b[0m\u001b[0;34m[\u001b[0m\u001b[0;34m'rain amount'\u001b[0m\u001b[0;34m]\u001b[0m\u001b[0;34m,\u001b[0m \u001b[0mlabel\u001b[0m\u001b[0;34m=\u001b[0m\u001b[0;34m\"test\"\u001b[0m\u001b[0;34m)\u001b[0m\u001b[0;34m\u001b[0m\u001b[0;34m\u001b[0m\u001b[0m\n\u001b[1;32m      6\u001b[0m \u001b[0;34m\u001b[0m\u001b[0m\n",
            "\u001b[0;31mNameError\u001b[0m: name 'train' is not defined"
          ]
        },
        {
          "output_type": "display_data",
          "data": {
            "text/plain": [
              "<Figure size 1080x432 with 1 Axes>"
            ],
            "image/png": "[encoded data removed]"
          },
          "metadata": {}
        }
      ],
      "source": [
        "# Line plot\n",
        "fig, ax = plt.subplots(figsize=(15, 6))\n",
        "\n",
        "plt.plot(train.index, train['rain amount'], label=\"train\")\n",
        "plt.plot(test.index, test['rain amount'], label=\"test\")\n",
        "\n",
        "# Formatting\n",
        "ax.set_title('Rain Amount', fontsize = 20, loc='center', fontdict=dict(weight='bold'))\n",
        "ax.set_xlabel('Year', fontsize = 16, fontdict=dict(weight='bold'))\n",
        "ax.set_ylabel('Rain Amount', fontsize = 16, fontdict=dict(weight='bold'))\n",
        "ax.legend()\n",
        "plt.tick_params(axis='y', which='major', labelsize=16)\n",
        "plt.tick_params(axis='x', which='major', labelsize=16)"
      ]
    }
  ],
  "metadata": {
    "colab": {
      "collapsed_sections": [
        "bcf6A1-b2P0T",
        "j0JPvwKZSvn2",
        "deK0r15ibbWB",
        "A11KhVP99-6E",
        "Cj2aLzsSk-ir",
        "zIB6ZBWBuMEB",
        "9Azszx9F4CK1",
        "rcrgEhK5aWyr"
      ],
      "toc_visible": true,
      "provenance": [],
      "include_colab_link": true
    },
    "kernelspec": {
      "display_name": "Python 3",
      "name": "python3"
    },
    "language_info": {
      "name": "python"
    }
  },
  "nbformat": 4,
  "nbformat_minor": 0
}